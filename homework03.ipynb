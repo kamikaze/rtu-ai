{
 "cells": [
  {
   "cell_type": "markdown",
   "id": "f9848fd9-5597-4544-9d04-a370d19aa267",
   "metadata": {
    "tags": []
   },
   "source": [
    "<center><img src=\"./images/rtu_logo_lv.png\" alt=\"RTU\" title=\"RTU\" width=\"150em\"/></center>"
   ]
  },
  {
   "cell_type": "markdown",
   "id": "cab241fd-2305-4066-99ad-6d4c0ea33c85",
   "metadata": {},
   "source": [
    "<center><b>RĪGAS TEHNISKĀ UNIVERSITĀTE</b></center>\n",
    "<center><b>DATORZINĀTNES UN INFORMĀCIJAS TEHNOLOĢIJAS FAKULTĀTE</b></center>\n",
    "<center><b>Priekšmeta \"Ievads mākslīgos neironu tīklos\"</b></center><center>"
   ]
  },
  {
   "cell_type": "markdown",
   "id": "80be8c26-4bf7-4fd7-96e2-360a96f21c8c",
   "metadata": {},
   "source": [
    "<center><b>2. mājasdarbs</b></center>"
   ]
  },
  {
   "cell_type": "markdown",
   "id": "40c47f2e-992b-4742-a981-235a95c1abf7",
   "metadata": {},
   "source": [
    "<div style=\"text-align: right\">\n",
    "    LDsI 12300 Lietišķo datorsistēmu institūts<br>\n",
    "    RDBD0 Datorsistēmas<br>\n",
    "    <b>3. kursa 3. grupas</b> pilna laika klātienes <b>students</b><br>\n",
    "    Oļegs Korsaks<br>\n",
    "    <b>Studenta apliecības Nr.: </b>051RDB146<br>\n",
    "</div>\n",
    "<center><b>Rīga, 2021</b></center>\n",
    "<div style=\"display:none\">\\pagebreak</div>"
   ]
  },
  {
   "cell_type": "markdown",
   "id": "13ece069-8242-48a8-a5c4-1cf64aa81bfd",
   "metadata": {},
   "source": [
    "***"
   ]
  },
  {
   "cell_type": "markdown",
   "id": "ec732a9e-f00f-4fe4-89ba-3a20fa21be35",
   "metadata": {
    "tags": []
   },
   "source": [
    "## Saturs\n",
    "\n",
    "* [Risināma uzdevuma nostādne](#Risināma-uzdevuma-nostādne-)\n",
    "    * [Datu kopas apraksts](#Datu-kopas-apraksts)\n",
    "    * [Veicamā uzdevuma būtība](#Veicamā-uzdevuma-būtība)\n",
    "* [Eksperimentu mērķis un plāns](#Eksperimentu-mērķis-un-plāns)\n",
    "* [Datu ielāde](#Datu-ielāde)\n",
    "    * [Datu analīze](#Datu-analīze)\n",
    "* [Apmācības kļūdas konverģences novērošana iterācijām un iegūto rezultātu analīze](#Apmācības-kļūdas-konverģences-novērošana-iterācijām-un-iegūto-rezultātu-analīze)\n",
    "    * [Lineāras regressijas metode](#Lineāras-regressijas-metode)\n",
    "    * [Klasifikācijas metode](#Klasifikācijas-metode)\n",
    "* [Iegūto rezultātu analīze](#Iegūto-rezultātu-analīze)\n",
    "* [Secinājumi](#Secinājumi)"
   ]
  },
  {
   "cell_type": "markdown",
   "id": "cd99424b-33f0-4a69-853b-9fe86b2ca0a0",
   "metadata": {
    "tags": []
   },
   "source": [
    "## Risināma uzdevuma nostādne <a class=\"anchor\" id=\"chapter1\"></a>"
   ]
  },
  {
   "cell_type": "markdown",
   "id": "1f847168-ec22-4de1-9416-0a59b9c09a1f",
   "metadata": {},
   "source": [
    "1. Izvēlēties uzdevumu un sagatavot datu kopu ar vismaz 20 ierakstiem, kuriem jābūt aprakstītiem ar vismaz diviem skaitliskiem atribūtiem.\n",
    "2. Izveidot viendimensiālo (vai 2D) SOM tīklu ar vismaz trim neironiem. Izmantojiet apmācības koeficientu ŋ=0.1.\n",
    "3. Apmācīt neironu tīklu, izmantojot izvēlētā varianta datus.\n",
    "4. Augstākam novērtējumam: realizēt SOM tīkla apmācību, kas paredz topoloģiskās apkaimes Sw(t) un attiecīgās enerģijas aprēķināšanu blakus neironu svaru koriģēšanai.\n",
    "5. „Paspēlēties” ar SOM, mainot apmācības koeficientu (piem. ŋ=0.3;0.5;0.7;0.9).\n",
    "6. Atskaitē atbildēt uz jautājumiem:\n",
    "    * Kurā brīdī (iterācijas numurs) tīklu var uzskatīt par apmācītu?\n",
    "    * Kā apmācības koeficients ietekmē kļūdas konverģenci?\n",
    "    * Paskaidrojiet, kā var koriģēt apmācības koeficientu, lai ātrāk apmācītu tīklu?\n",
    "    * Parādiet, kā dati tika klasterizēti (vismaz aprakstiet, no kādiem elementiem sastāv klasteri).\n",
    "7. Rezultātus noformēt atskaites formā."
   ]
  },
  {
   "cell_type": "markdown",
   "id": "107067a6-a6b1-4282-8fb3-5a5c22a3a996",
   "metadata": {},
   "source": [
    "Izvēlējos: Variants II. Medicīniskai iestādei ir nepieciešams klasterizēt pacientus trijās grupās pēc viņu svara\n",
    "un auguma."
   ]
  },
  {
   "cell_type": "code",
   "execution_count": 5,
   "id": "59cf738a-663b-4434-9c4e-d422b4d77dac",
   "metadata": {},
   "outputs": [],
   "source": [
    "import numpy as np\n",
    "import pandas as pd\n",
    "import seaborn as sns\n",
    "\n",
    "sns.set_context('notebook', font_scale=2.0)\n",
    "sns.set_style('darkgrid')\n",
    "\n",
    "from matplotlib import pyplot as plt\n",
    "\n",
    "%matplotlib inline"
   ]
  },
  {
   "cell_type": "code",
   "execution_count": 6,
   "id": "57e67ada-8f77-404d-91c7-da12e9ae54ef",
   "metadata": {},
   "outputs": [],
   "source": [
    "EPOCHS = 2000"
   ]
  },
  {
   "cell_type": "markdown",
   "id": "93f84d9a-c77f-4d7a-b71d-fa3c47ea500c",
   "metadata": {},
   "source": [
    "### Dati"
   ]
  },
  {
   "cell_type": "code",
   "execution_count": 7,
   "id": "9ba7680c-f095-4a32-ba34-72005f3ca47f",
   "metadata": {},
   "outputs": [],
   "source": [
    "# Patient: Weight, Height\n",
    "\n",
    "data = {\n",
    "    'VU1': (77, 170),\n",
    "    'VU2': (1452, 110),\n",
    "    'VU3': (20345, 178),\n",
    "    'VU4': (1024, 150),\n",
    "    'VU5': (7341, 153),\n",
    "    'VU6': (4205, 121),\n",
    "    'VU7': (1452, 181),\n",
    "    'VU8': (20345, 130),\n",
    "    'VU9': (1024, 165),\n",
    "    'VU10': (7341, 161),\n",
    "    'VU11': (61, 148),\n",
    "    'VU12': (59, 141),\n",
    "    'VU13': (40, 118),\n",
    "    'VU14': (61, 133),\n",
    "    'VU15': (81, 120),\n",
    "    'VU16': (94, 171),\n",
    "}"
   ]
  },
  {
   "cell_type": "markdown",
   "id": "1d88509e-a69d-40ab-b197-c6eb9f2caf24",
   "metadata": {},
   "source": [
    "Paskatīsimies uz datu sadalījumu"
   ]
  },
  {
   "cell_type": "code",
   "execution_count": 10,
   "id": "a158570d",
   "metadata": {
    "collapsed": false,
    "jupyter": {
     "outputs_hidden": false
    },
    "pycharm": {
     "name": "#%%\n"
    }
   },
   "outputs": [
    {
     "data": {
      "image/png": "[encoded data removed]",
      "text/plain": [
       "<Figure size 432x288 with 1 Axes>"
      ]
     },
     "metadata": {
      "needs_background": "light"
     },
     "output_type": "display_data"
    }
   ],
   "source": [
    "x = [item[0] for item in data.values()]\n",
    "y = [item[1] for item in data.values()]\n",
    "plt.scatter(x, y, linewidth=1, edgecolors='black')\n",
    "plt.show()"
   ]
  },
  {
   "cell_type": "markdown",
   "id": "fd8a584b-76a5-4e33-97a5-1c2f9e7f015f",
   "metadata": {},
   "source": [
    "Dažiem te ir vajadzīga nopietna dieta."
   ]
  },
  {
   "cell_type": "markdown",
   "id": "79ca8b36-954b-4db9-9ab2-bfd722c556d3",
   "metadata": {
    "jupyter": {
     "outputs_hidden": false
    },
    "pycharm": {
     "name": "#%%\n"
    }
   },
   "source": [
    "## Secinājumi"
   ]
  },
  {
   "cell_type": "markdown",
   "id": "69bf00d7-13de-465b-9539-88c306adf21d",
   "metadata": {},
   "source": []
  }
 ],
 "metadata": {
  "kernelspec": {
   "display_name": "Python 3 (ipykernel)",
   "language": "python",
   "name": "python3"
  },
  "language_info": {
   "codemirror_mode": {
    "name": "ipython",
    "version": 3
   },
   "file_extension": ".py",
   "mimetype": "text/x-python",
   "name": "python",
   "nbconvert_exporter": "python",
   "pygments_lexer": "ipython3",
   "version": "3.9.9"
  },
  "toc-autonumbering": false,
  "toc-showcode": false,
  "toc-showmarkdowntxt": false,
  "toc-showtags": false
 },
 "nbformat": 4,
 "nbformat_minor": 5
}
