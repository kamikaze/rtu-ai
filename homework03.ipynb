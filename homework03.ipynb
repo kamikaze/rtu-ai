{
 "cells": [
  {
   "cell_type": "markdown",
   "id": "f9848fd9-5597-4544-9d04-a370d19aa267",
   "metadata": {
    "tags": []
   },
   "source": [
    "<center><img src=\"./images/rtu_logo_lv.png\" alt=\"RTU\" title=\"RTU\" width=\"150em\"/></center>"
   ]
  },
  {
   "cell_type": "markdown",
   "id": "cab241fd-2305-4066-99ad-6d4c0ea33c85",
   "metadata": {},
   "source": [
    "<center><b>RĪGAS TEHNISKĀ UNIVERSITĀTE</b></center>\n",
    "<center><b>DATORZINĀTNES UN INFORMĀCIJAS TEHNOLOĢIJAS FAKULTĀTE</b></center>\n",
    "<center><b>Priekšmeta \"Ievads mākslīgos neironu tīklos\"</b></center><center>"
   ]
  },
  {
   "cell_type": "markdown",
   "id": "80be8c26-4bf7-4fd7-96e2-360a96f21c8c",
   "metadata": {},
   "source": [
    "<center><b>3. mājasdarbs</b></center>"
   ]
  },
  {
   "cell_type": "markdown",
   "id": "40c47f2e-992b-4742-a981-235a95c1abf7",
   "metadata": {},
   "source": [
    "<div style=\"text-align: right\">\n",
    "    LDsI 12300 Lietišķo datorsistēmu institūts<br>\n",
    "    RDBD0 Datorsistēmas<br>\n",
    "    <b>3. kursa 3. grupas</b> pilna laika klātienes <b>students</b><br>\n",
    "    Oļegs Korsaks<br>\n",
    "    <b>Studenta apliecības Nr.: </b>051RDB146<br>\n",
    "</div>\n",
    "<center><b>Rīga, 2021</b></center>\n",
    "<div style=\"display:none\">\\pagebreak</div>"
   ]
  },
  {
   "cell_type": "markdown",
   "id": "13ece069-8242-48a8-a5c4-1cf64aa81bfd",
   "metadata": {},
   "source": [
    "***"
   ]
  },
  {
   "cell_type": "markdown",
   "id": "ec732a9e-f00f-4fe4-89ba-3a20fa21be35",
   "metadata": {
    "tags": []
   },
   "source": [
    "## Saturs\n",
    "\n",
    "* [Risināma uzdevuma nostādne](#Risināma-uzdevuma-nostādne-)\n",
    "    * [Datu kopas apraksts](#Datu-kopas-apraksts)\n",
    "    * [Veicamā uzdevuma būtība](#Veicamā-uzdevuma-būtība)\n",
    "* [Eksperimentu mērķis un plāns](#Eksperimentu-mērķis-un-plāns)\n",
    "* [Datu ielāde](#Datu-ielāde)\n",
    "    * [Datu analīze](#Datu-analīze)\n",
    "* [Apmācības kļūdas konverģences novērošana iterācijām un iegūto rezultātu analīze](#Apmācības-kļūdas-konverģences-novērošana-iterācijām-un-iegūto-rezultātu-analīze)\n",
    "    * [Lineāras regressijas metode](#Lineāras-regressijas-metode)\n",
    "    * [Klasifikācijas metode](#Klasifikācijas-metode)\n",
    "* [Iegūto rezultātu analīze](#Iegūto-rezultātu-analīze)\n",
    "* [Secinājumi](#Secinājumi)"
   ]
  },
  {
   "cell_type": "markdown",
   "id": "cd99424b-33f0-4a69-853b-9fe86b2ca0a0",
   "metadata": {
    "tags": []
   },
   "source": [
    "## Risināma uzdevuma nostādne <a class=\"anchor\" id=\"chapter1\"></a>"
   ]
  },
  {
   "cell_type": "markdown",
   "id": "1f847168-ec22-4de1-9416-0a59b9c09a1f",
   "metadata": {},
   "source": [
    "1. Izvēlēties uzdevumu un sagatavot datu kopu ar vismaz 20 ierakstiem, kuriem jābūt aprakstītiem ar vismaz diviem skaitliskiem atribūtiem.\n",
    "2. Izveidot viendimensiālo (vai 2D) SOM tīklu ar vismaz trim neironiem. Izmantojiet apmācības koeficientu ŋ=0.1.\n",
    "3. Apmācīt neironu tīklu, izmantojot izvēlētā varianta datus.\n",
    "4. Augstākam novērtējumam: realizēt SOM tīkla apmācību, kas paredz topoloģiskās apkaimes Sw(t) un attiecīgās enerģijas aprēķināšanu blakus neironu svaru koriģēšanai.\n",
    "5. „Paspēlēties” ar SOM, mainot apmācības koeficientu (piem. ŋ=0.3;0.5;0.7;0.9).\n",
    "6. Atskaitē atbildēt uz jautājumiem:\n",
    "    * Kurā brīdī (iterācijas numurs) tīklu var uzskatīt par apmācītu?\n",
    "    * Kā apmācības koeficients ietekmē kļūdas konverģenci?\n",
    "    * Paskaidrojiet, kā var koriģēt apmācības koeficientu, lai ātrāk apmācītu tīklu?\n",
    "    * Parādiet, kā dati tika klasterizēti (vismaz aprakstiet, no kādiem elementiem sastāv klasteri).\n",
    "7. Rezultātus noformēt atskaites formā."
   ]
  },
  {
   "cell_type": "markdown",
   "id": "107067a6-a6b1-4282-8fb3-5a5c22a3a996",
   "metadata": {},
   "source": [
    "Izvēlējos: Variants II. Medicīniskai iestādei ir nepieciešams klasterizēt pacientus trijās grupās pēc viņu svara\n",
    "un auguma."
   ]
  },
  {
   "cell_type": "code",
   "execution_count": 33,
   "id": "59cf738a-663b-4434-9c4e-d422b4d77dac",
   "metadata": {},
   "outputs": [],
   "source": [
    "from random import random\n",
    "\n",
    "import numpy as np\n",
    "import pandas as pd\n",
    "import seaborn as sns\n",
    "\n",
    "sns.set_context('notebook', font_scale=2.0)\n",
    "sns.set_style('darkgrid')\n",
    "\n",
    "from matplotlib import pyplot as plt\n",
    "\n",
    "%matplotlib inline"
   ]
  },
  {
   "cell_type": "code",
   "execution_count": 34,
   "id": "57e67ada-8f77-404d-91c7-da12e9ae54ef",
   "metadata": {},
   "outputs": [],
   "source": [
    "CLUSTER_COUNT = 3\n",
    "LEARNING_RATE = 0.1\n",
    "EPOCHS = 2000"
   ]
  },
  {
   "cell_type": "markdown",
   "id": "93f84d9a-c77f-4d7a-b71d-fa3c47ea500c",
   "metadata": {},
   "source": [
    "### Dati"
   ]
  },
  {
   "cell_type": "code",
   "execution_count": 35,
   "id": "9ba7680c-f095-4a32-ba34-72005f3ca47f",
   "metadata": {},
   "outputs": [],
   "source": [
    "# Patient: Weight, Height\n",
    "\n",
    "data = {\n",
    "    'VU1': (77, 170),\n",
    "    'VU2': (1452, 110),\n",
    "    'VU3': (20345, 178),\n",
    "    'VU4': (1024, 150),\n",
    "    'VU5': (7341, 153),\n",
    "    'VU6': (4205, 121),\n",
    "    'VU7': (1452, 181),\n",
    "    'VU8': (20345, 130),\n",
    "    'VU9': (1024, 165),\n",
    "    'VU10': (7341, 161),\n",
    "    'VU11': (61, 148),\n",
    "    'VU12': (59, 141),\n",
    "    'VU13': (40, 118),\n",
    "    'VU14': (61, 133),\n",
    "    'VU15': (81, 120),\n",
    "    'VU16': (94, 171),\n",
    "    'VU17': (110, 200),\n",
    "    'VU18': (94, 160),\n",
    "    'VU19': (444, 182),\n",
    "    'VU20': (333, 191),\n",
    "    'VU21': (834, 171),\n",
    "    'VU22': (43, 145),\n",
    "    'VU23': (10000, 150),\n",
    "    'VU24': (1045, 201),\n",
    "    'VU25': (4587, 210),\n",
    "}\n",
    "samples = tuple(data.values())"
   ]
  },
  {
   "cell_type": "markdown",
   "id": "1d88509e-a69d-40ab-b197-c6eb9f2caf24",
   "metadata": {},
   "source": [
    "Paskatīsimies uz datu sadalījumu"
   ]
  },
  {
   "cell_type": "code",
   "execution_count": 36,
   "id": "a158570d",
   "metadata": {
    "collapsed": false,
    "jupyter": {
     "outputs_hidden": false
    },
    "pycharm": {
     "name": "#%%\n"
    }
   },
   "outputs": [
    {
     "data": {
      "image/png": "[encoded data removed]",
      "text/plain": [
       "<Figure size 432x288 with 1 Axes>"
      ]
     },
     "metadata": {
      "needs_background": "light"
     },
     "output_type": "display_data"
    }
   ],
   "source": [
    "x = [item[0] for item in samples]\n",
    "y = [item[1] for item in samples]\n",
    "plt.scatter(x, y, linewidth=1, edgecolors='black')\n",
    "plt.show()"
   ]
  },
  {
   "cell_type": "markdown",
   "id": "fd8a584b-76a5-4e33-97a5-1c2f9e7f015f",
   "metadata": {},
   "source": [
    "Dažiem te ir vajadzīga nopietna dieta."
   ]
  },
  {
   "cell_type": "code",
   "execution_count": 42,
   "id": "cf7db4c3-e3a4-4cdb-97a1-8c5f5ef19270",
   "metadata": {},
   "outputs": [],
   "source": [
    "neurons = (\n",
    "    [10000, 200],\n",
    "    [17000, 20],\n",
    "    [20, 20],\n",
    ")\n",
    "neuron_colors = (\n",
    "    ('red', 'green', 'yellow')\n",
    ")"
   ]
  },
  {
   "cell_type": "code",
   "execution_count": 43,
   "id": "e407f0bf-ce88-487b-8da4-85d002a1590d",
   "metadata": {},
   "outputs": [
    {
     "name": "stdout",
     "output_type": "stream",
     "text": [
      "(([0.524424326380198, 0.507813548006619], [0.2943854208423219, 0.09052378615871792], [0.5526170319337815, 0.3258285751253851]), ([0.7635630136077952, 0.15623719332616526], [0.2507472532935191, 0.6104315750921172], [0.43577078987534545, 0.9075650721515578]), ([0.8368377452768835, 0.8053672133813181], [0.9564115167149855, 0.06630489900649428], [0.46585782414848365, 0.5512039296184263]), ([0.9725052660087687, 0.9434171453637324], [0.5151595048128195, 0.16686171962947893], [0.5154941821995662, 0.26544358671387225]), ([0.22544485012819881, 0.6578724578243551], [0.30312299274370935, 0.700560851325351], [0.8502936026957503, 0.4775400368426448]), ([0.8400451609182816, 0.4796961112876451], [0.7932582739471471, 0.23574515115181405], [0.9609593102118835, 0.6546837179461751]), ([0.14496204037574156, 0.44884946531913716], [0.69101972492106, 0.17735703835732242], [0.4021102091334342, 0.7246780571844068]), ([0.12623017697085748, 0.6410102535064082], [0.3223246969147143, 0.20112310842604864], [0.40132125255778295, 0.16664289613890615]), ([0.1478719295999874, 0.546591026790251], [0.13201160392115618, 0.6496489408271982], [0.2308195589717117, 0.8938488127473148]), ([0.3743365026965877, 0.2752622674796452], [0.6120696124985653, 0.09898856457796934], [0.634918770618127, 0.435538369224427]), ([0.6881068627778526, 0.12312179879192975], [0.6455720857188038, 0.11057896686514368], [0.5010626055871552, 0.8141724922638959]), ([0.2146885349348886, 0.9540922673828793], [0.771809253154253, 0.5109445278960502], [0.5884292825081532, 0.38637261197468475]), ([0.8014460842176443, 0.21333425474627776], [0.8596361132614224, 0.6592330534393744], [0.8737534496600983, 0.9922134701475864]), ([0.6603005374367807, 0.8487413058842652], [0.005263629797685909, 0.22629441303169684], [0.8057910214847157, 0.16506395090190795]), ([0.763384013614899, 0.9007457709123924], [0.1831558987341766, 0.7759141005864546], [0.9310370417642837, 0.8946892375459718]), ([0.03265280404889992, 0.4108139823769835], [0.7496619017441472, 0.4821571868361876], [0.2930979905224067, 0.868093143040054]), ([0.7117297403771793, 0.4571891132864251], [0.27330602879604504, 0.7772053067547335], [0.8334079659138862, 0.576923211045754]), ([0.3420207405669804, 0.6500434144533899], [0.901219083126727, 0.09689623384590018], [0.44142747447043407, 0.6267571125154794]), ([0.633230181480933, 0.8104939084404604], [0.6005844575256754, 0.25946520565311637], [0.7455504606184751, 0.4106607483336129]), ([0.03927545617238992, 0.5915188755691508], [0.9177756540579147, 0.69803520457113], [0.6590064896413246, 0.21688778382630036]), ([0.9285162709854742, 0.6940198695392796], [0.4337574061831161, 0.15154727367710985], [0.8617913947947813, 0.6070310864306901]), ([0.4234052002030603, 0.4485296092562451], [0.6698444945235987, 0.0651774681665176], [0.2556859274918426, 0.5090671131169039]), ([0.12656707076817753, 0.19978249790159652], [0.8838641404511087, 0.144525772366229], [0.014406452848472862, 0.8085907448348184]), ([0.8436646508655601, 0.7382900702587099], [0.7845509963194564, 0.6388245950229734], [0.16748440260619601, 0.03966929835247868]), ([0.5321694906879634, 0.8045872747773283], [0.8640425214427918, 0.7383985671767772], [0.8724235031297415, 0.1968623680633803]))\n"
     ]
    }
   ],
   "source": [
    "neuron_count, feature_count = len(neurons), len(samples[0])\n",
    "weights = tuple(\n",
    "    tuple(\n",
    "        [random() for _ in range(feature_count)] for _ in range(neuron_count)\n",
    "    ) for _ in range(len(samples))\n",
    ")\n",
    "\n",
    "print(weights)"
   ]
  },
  {
   "cell_type": "code",
   "execution_count": 32,
   "id": "7c236495-07a4-4c13-94ce-352e7693ad13",
   "metadata": {},
   "outputs": [],
   "source": [
    "def fit(weights: tuple[tuple[list[float]]], samples: tuple[list[float]], learning_rate: float):\n",
    "    punkts = gadijumaPunkt()\n",
    "    bmu_distance = float('inf')\n",
    "    bmu_row_idx = 0\n",
    "    bmu_col_idx = 0\n",
    "    bmu_weight_vector = None\n",
    "\n",
    "    for row_idx, weight_row in enumerate(weights):\n",
    "        for col_idx, weight_vector in enumerate(weight_row):\n",
    "            distance = math.sqrt((punkts[0]-weight_vector[0])**2 + (punkts[1]-weight_vector[1])**2)\n",
    "\n",
    "            if distance < bmu_distance:\n",
    "                bmu_distance = distance\n",
    "                bmu_row_idx = row_idx\n",
    "                bmu_col_idx = col_idx\n",
    "                bmu_weight_vector = weight_vector\n",
    "\n",
    "    bmu_weight_vector[0] = bmu_weight_vector[0] + learning_rate*(punkts[0]-bmu_weight_vector[0])\n",
    "    bmu_weight_vector[1] = bmu_weight_vector[1] + learning_rate*(punkts[1]-bmu_weight_vector[1])\n",
    "\n",
    "    for di in (-1, 0, 1):\n",
    "        for dj in (-1, 0, 1):\n",
    "            if di==0 and dj==0:\n",
    "                continue\n",
    "                \n",
    "            row_idx = bmu_row_idx + di\n",
    "            col_idx = bmu_col_idx + dj\n",
    "            \n",
    "            if row_idx < 0 or col_idx < 0 or row_idx >= len(weights) or col_idx >= len(weights[row_idx]):\n",
    "                continue\n",
    "                \n",
    "            weight_vector = weights[row_idx][col_idx]\n",
    "            nt = learning_rate * (0.125 ** (abs(di) + abs(dj)))\n",
    "            weight_vector[0] = weight_vector[0] + nt * (punkts[0] - weight_vector[0])\n",
    "            weight_vector[1] = weight_vector[1] + nt * (punkts[1] - weight_vector[1])"
   ]
  },
  {
   "cell_type": "markdown",
   "id": "79ca8b36-954b-4db9-9ab2-bfd722c556d3",
   "metadata": {
    "jupyter": {
     "outputs_hidden": false
    },
    "pycharm": {
     "name": "#%%\n"
    }
   },
   "source": [
    "## Secinājumi"
   ]
  },
  {
   "cell_type": "markdown",
   "id": "69bf00d7-13de-465b-9539-88c306adf21d",
   "metadata": {},
   "source": []
  }
 ],
 "metadata": {
  "kernelspec": {
   "display_name": "Python 3 (ipykernel)",
   "language": "python",
   "name": "python3"
  },
  "language_info": {
   "codemirror_mode": {
    "name": "ipython",
    "version": 3
   },
   "file_extension": ".py",
   "mimetype": "text/x-python",
   "name": "python",
   "nbconvert_exporter": "python",
   "pygments_lexer": "ipython3",
   "version": "3.9.9"
  },
  "toc-autonumbering": false,
  "toc-showcode": false,
  "toc-showmarkdowntxt": false,
  "toc-showtags": false
 },
 "nbformat": 4,
 "nbformat_minor": 5
}
