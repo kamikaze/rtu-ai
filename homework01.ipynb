{
 "cells": [
  {
   "cell_type": "markdown",
   "id": "fa8689b0-7cca-4e8a-b816-529b83918af9",
   "metadata": {},
   "source": [
    "<center><img src=\"./images/rtu_logo_lv.png\" alt=\"RTU\" title=\"RTU\" width=\"150em\"/></center>"
   ]
  },
  {
   "cell_type": "markdown",
   "id": "adca8b28-1ed7-4594-9732-5e5f41ab9752",
   "metadata": {},
   "source": [
    "<center><b>RĪGAS TEHNISKĀ UNIVERSITĀTE</b></center>\n",
    "<center><b>DATORZINĀTNES UN INFORMĀCIJAS TEHNOLOĢIJAS FAKULTĀTE</b></center>\n",
    "<center><b>Priekšmeta \"Ievads mākslīgos neironu tīklos\"</b></center><center>"
   ]
  },
  {
   "cell_type": "markdown",
   "id": "b37c4db9-d172-4feb-8398-d7054ab86b06",
   "metadata": {},
   "source": [
    "<center><b>1. mājasdarbs</b></center>"
   ]
  },
  {
   "cell_type": "markdown",
   "id": "2e109eb0-d604-47f1-a23c-07a62ef1ee76",
   "metadata": {},
   "source": [
    "<div style=\"text-align: right\">\n",
    "    LDsI 12300 Lietišķo datorsistēmu institūts<br>\n",
    "    RDBD0 Datorsistēmas<br>\n",
    "    <b>3. kursa 3. grupas</b> pilna laika klātienes <b>students</b><br>\n",
    "    Oļegs Korsaks<br>\n",
    "    <b>Studenta apliecības Nr.: </b>051RDB146<br>\n",
    "</div>\n",
    "<center><b>Rīga, 2021</b></center>\n",
    "<div style=\"display:none\">\\pagebreak</div>"
   ]
  },
  {
   "cell_type": "markdown",
   "id": "6a6f0e65-71a7-43bd-bbfb-9de9146b989c",
   "metadata": {},
   "source": [
    "***"
   ]
  },
  {
   "cell_type": "code",
   "execution_count": 1,
   "id": "1b232d25-cd40-4767-9661-e4059de522da",
   "metadata": {
    "tags": []
   },
   "outputs": [],
   "source": [
    "from math import exp\n",
    "from operator import methodcaller\n",
    "\n",
    "import numpy as np\n",
    "import tensorflow as tf"
   ]
  },
  {
   "cell_type": "code",
   "execution_count": 2,
   "id": "775d1208-4d5f-4d7e-8bbc-2c5c7503a5d4",
   "metadata": {
    "tags": []
   },
   "outputs": [],
   "source": [
    "letters = [\n",
    "    ['A',[0,1,0,1,0,1,1,1,1,1,0,1,1,0,1],[1,0,0]],\n",
    "    ['E',[1,1,1,1,0,0,1,1,0,1,0,0,1,1,1],[1,0,0]],\n",
    "    ['D',[1,1,0,1,0,1,1,0,1,1,0,1,1,1,0],[1,0,0]],\n",
    "    ['B',[1,1,0,1,0,1,1,1,0,1,0,1,1,1,0],[0,1,0]],\n",
    "    ['C',[1,1,1,1,0,0,1,0,0,1,0,0,1,1,1],[0,1,0]],\n",
    "    ['F',[1,1,1,1,0,0,1,1,0,1,0,0,1,0,0],[0,1,0]],\n",
    "    ['G',[1,1,1,1,0,0,1,0,1,1,0,1,1,1,1],[0,0,1]],\n",
    "    ['H',[1,0,1,1,0,1,1,1,1,1,0,1,1,0,1],[0,0,1]],\n",
    "    ['I',[0,1,0,0,1,0,0,1,0,0,1,0,0,1,0],[0,0,1]],\n",
    "]"
   ]
  },
  {
   "cell_type": "code",
   "execution_count": 3,
   "id": "b4cc2e86-3c05-4470-b023-bfcde014d40f",
   "metadata": {
    "tags": []
   },
   "outputs": [],
   "source": [
    "def a_step(val):\n",
    "    return int(val>0)\n",
    "\n",
    "\n",
    "def a_lin(val):\n",
    "    if val <= 0:\n",
    "        return 0.0\n",
    "    elif val > 5:\n",
    "        return 1.0\n",
    "    \n",
    "    return val/5.0\n",
    "\n",
    "\n",
    "def a_sigmoid(val):\n",
    "    return 1.0 / (1.0+exp(-val))\n",
    "\n",
    "\n",
    "def a_tanh(val):\n",
    "    return (exp(val)-exp(-val)) / (exp(val)+exp(-val))"
   ]
  },
  {
   "cell_type": "code",
   "execution_count": 4,
   "id": "154b0050-4c56-462e-a161-3aa44943feeb",
   "metadata": {
    "tags": []
   },
   "outputs": [],
   "source": [
    "learning_rate = 0.1\n",
    "\n",
    "\n",
    "class Neiron:\n",
    "    def __init__(self, in_size):\n",
    "        self.weights = np.zeros(in_size)\n",
    "        self.w0 = 0\n",
    "\n",
    "    def classify(self, incoming_signals):\n",
    "        net = np.dot(incoming_signals, self.weights) + self.w0\n",
    "        \n",
    "        return a_step(net)\n",
    "    \n",
    "    def learn(self, incoming_signals, c):\n",
    "        y = self.classify(incoming_signals)\n",
    "        delta = c - y\n",
    "        \n",
    "        if delta:\n",
    "            for i in range(len(self.weights)):\n",
    "                self.weights[i] += delta * learning_rate * incoming_signals[i]\n",
    "\n",
    "            self.w0 += delta * learning_rate"
   ]
  },
  {
   "cell_type": "code",
   "execution_count": 5,
   "id": "75511cc1-3be4-4c3e-95e6-0eb050b33d85",
   "metadata": {
    "tags": []
   },
   "outputs": [],
   "source": [
    "def run_neirons(data: list, neiron_class, in_size: int, class_count: int, epoch_count: int = 100):\n",
    "    neirons = tuple(neiron_class(in_size) for _ in range(class_count))\n",
    "    \n",
    "    for epoch in range(epoch_count):\n",
    "        for sample in data:\n",
    "            for i, neiron in enumerate(neirons):\n",
    "                neiron.learn(sample[1], sample[2][i])\n",
    "    \n",
    "    for sample in data:\n",
    "        method = methodcaller('classify', sample[1])\n",
    "        print(f'{sample[0]} {tuple(map(method, neirons))}')"
   ]
  },
  {
   "cell_type": "code",
   "execution_count": 6,
   "id": "ce225161-ce90-4ae0-9d88-c1a6b06d950c",
   "metadata": {
    "tags": []
   },
   "outputs": [
    {
     "name": "stdout",
     "output_type": "stream",
     "text": [
      "A (1, 0, 0)\n",
      "E (1, 0, 0)\n",
      "D (1, 0, 0)\n",
      "B (0, 1, 0)\n",
      "C (0, 1, 0)\n",
      "F (0, 1, 0)\n",
      "G (0, 0, 1)\n",
      "H (0, 0, 1)\n",
      "I (0, 0, 1)\n"
     ]
    }
   ],
   "source": [
    "run_neirons(letters, Neiron, 15, 3, 100)"
   ]
  },
  {
   "cell_type": "markdown",
   "id": "c70d54bc-cabe-44b8-8709-a5891a41d16f",
   "metadata": {},
   "source": [
    "## Mājasdarbs 1"
   ]
  },
  {
   "cell_type": "markdown",
   "id": "82e140e5-5d74-40e1-a089-a789708b633f",
   "metadata": {},
   "source": [
    "Pārveidosim neirona klasi, lai viņš varētu klasificēt 4 klašu simbolus. Pievienosim ! _ un . simbolus"
   ]
  },
  {
   "cell_type": "code",
   "execution_count": 7,
   "id": "a8d6dbd1-d88f-4d7c-ac35-b49a61c0cb4c",
   "metadata": {
    "tags": []
   },
   "outputs": [],
   "source": [
    "letters = [\n",
    "    ['A',[0,1,0,1,0,1,1,1,1,1,0,1,1,0,1],[1,0,0,0]],\n",
    "    ['E',[1,1,1,1,0,0,1,1,0,1,0,0,1,1,1],[1,0,0,0]],\n",
    "    ['D',[1,1,0,1,0,1,1,0,1,1,0,1,1,1,0],[1,0,0,0]],\n",
    "    ['B',[1,1,0,1,0,1,1,1,0,1,0,1,1,1,0],[0,1,0,0]],\n",
    "    ['C',[1,1,1,1,0,0,1,0,0,1,0,0,1,1,1],[0,1,0,0]],\n",
    "    ['F',[1,1,1,1,0,0,1,1,0,1,0,0,1,0,0],[0,1,0,0]],\n",
    "    ['G',[1,1,1,1,0,0,1,0,1,1,0,1,1,1,1],[0,0,1,0]],\n",
    "    ['H',[1,0,1,1,0,1,1,1,1,1,0,1,1,0,1],[0,0,1,0]],\n",
    "    ['I',[0,1,0,0,1,0,0,1,0,0,1,0,0,1,0],[0,0,1,0]],\n",
    "    \n",
    "    ['!',[0,1,0,0,1,0,0,1,0,0,0,0,0,1,0],[0,0,0,1]],\n",
    "    ['_',[0,0,0,0,0,0,0,0,0,0,0,0,1,1,1],[0,0,0,1]],\n",
    "    ['.',[0,0,0,0,0,0,0,0,0,0,0,0,0,1,0],[0,0,0,1]],\n",
    "]\n",
    "\n",
    "\n",
    "class NeironHome:\n",
    "    def __init__(self, in_size):\n",
    "        self.weights = np.zeros(in_size)\n",
    "        self.w0 = 0\n",
    "\n",
    "    def classify(self, incoming_signals):\n",
    "        net = np.dot(incoming_signals, self.weights) + self.w0\n",
    "        \n",
    "        return a_sigmoid(net)\n",
    "    \n",
    "    def learn(self, incoming_signals, c):\n",
    "        y = self.classify(incoming_signals)\n",
    "        delta = c - y\n",
    "        \n",
    "        if delta:\n",
    "            for i in range(len(self.weights)):\n",
    "                self.weights[i] += delta * learning_rate * incoming_signals[i]\n",
    "\n",
    "            self.w0 += delta * learning_rate"
   ]
  },
  {
   "cell_type": "code",
   "execution_count": 8,
   "id": "406fb981-3022-4c89-b99c-4e8e14462034",
   "metadata": {
    "tags": []
   },
   "outputs": [
    {
     "name": "stdout",
     "output_type": "stream",
     "text": [
      "A (0.9975535051097201, 6.660629571448497e-06, 0.008248493415553408, 0.00013232113048282796)\n",
      "E (0.8293688905071558, 0.07107663617372244, 0.00345475745807826, 0.0008908342725369956)\n",
      "D (0.8834289329308431, 0.040197189905192325, 0.005393751338105291, 0.000374360388021805)\n",
      "B (0.06296538404255056, 0.9611077227614221, 2.5487150667717718e-05, 0.00044414160389372084)\n",
      "C (0.08063124850588929, 0.941473518306242, 0.00588321544731504, 0.0016078235509806357)\n",
      "F (0.02633476838322883, 0.9911138221082045, 0.0034084107149066696, 2.9723027415453927e-05)\n",
      "G (0.04066958299013252, 0.00015968439826207983, 0.9849054420714136, 0.0002711874602893066)\n",
      "H (0.02117992296299061, 1.3000067100018376e-05, 0.9923537292619337, 1.8435006117880236e-05)\n",
      "I (0.0037253089873815924, 2.5566882336613036e-05, 0.9800763983367607, 0.02047026562186848)\n",
      "! (0.018415486080804077, 4.3871158090628676e-05, 0.013755496597630701, 0.9781077632338467)\n",
      "_ (0.00838609151522248, 0.00038552142987693667, 0.0020254630608827185, 0.9968259609187382)\n",
      ". (0.0038839340759217974, 0.004995083061712131, 0.00800573804759111, 0.9960332877179408)\n"
     ]
    }
   ],
   "source": [
    "run_neirons(letters, NeironHome, 15, 4, 1000)"
   ]
  },
  {
   "cell_type": "markdown",
   "id": "f66f7453-7b45-4b93-a9c2-3ec636d91e8d",
   "metadata": {
    "tags": []
   },
   "source": [
    "**Ir redzams, ka \"!\", \"\\_\" un \".\" simboli tiek klasificēti kā 4. klase. Citu burtu klasifikācija nemainās.**"
   ]
  },
  {
   "cell_type": "markdown",
   "id": "34db5a21-6412-4f7e-b498-5ea6f865d389",
   "metadata": {},
   "source": [
    "Pārtaisīsim TensorFlow kodu, lai viņš klasificētu burtus:"
   ]
  },
  {
   "cell_type": "code",
   "execution_count": 9,
   "id": "bd882d44-ab8b-4bb4-97d9-04f1fc4042ab",
   "metadata": {},
   "outputs": [
    {
     "name": "stdout",
     "output_type": "stream",
     "text": [
      "[[1 0 0 0]\n",
      " [1 0 0 0]\n",
      " [1 0 0 0]\n",
      " [0 1 0 0]\n",
      " [0 1 0 0]\n",
      " [0 1 0 0]\n",
      " [0 0 1 0]\n",
      " [0 0 1 0]\n",
      " [0 0 1 0]\n",
      " [0 0 0 1]\n",
      " [0 0 0 1]\n",
      " [0 0 0 1]]\n",
      "[[0.37047184 0.2304135  0.2934439  0.10567079]\n",
      " [0.2994195  0.36587617 0.20893149 0.12577288]\n",
      " [0.3621907  0.29258814 0.23302452 0.11219666]\n",
      " [0.35252976 0.37638938 0.16325071 0.10783017]\n",
      " [0.2886803  0.36144426 0.20185332 0.1480222 ]\n",
      " [0.29444072 0.41434592 0.17537645 0.1158369 ]\n",
      " [0.29668406 0.23614568 0.36185062 0.10531965]\n",
      " [0.2921281  0.20554838 0.41453084 0.08779269]\n",
      " [0.1139712  0.12026215 0.3248356  0.44093102]\n",
      " [0.11942177 0.13622987 0.23930153 0.50504684]\n",
      " [0.11129063 0.11937999 0.2033159  0.5660135 ]\n",
      " [0.08803236 0.10625695 0.1827992  0.62291145]]\n"
     ]
    }
   ],
   "source": [
    "model = tf.keras.models.Sequential()\n",
    "model.add(tf.keras.layers.Dense(15, kernel_regularizer=tf.keras.regularizers.l2(0.1), activation='sigmoid', input_shape=(15, )))\n",
    "model.add(tf.keras.layers.Dense(4, activation='softmax'))\n",
    "model.compile(optimizer='adam', loss='categorical_crossentropy')\n",
    "\n",
    "np_letters = np.array(tuple(np.array(letter[1]) for letter in letters))\n",
    "targets = np.array(tuple(np.array(letter[2]) for letter in letters))\n",
    "print(targets)\n",
    "\n",
    "model.fit(np_letters, targets, epochs=1000, verbose=0)\n",
    "predictions = model.predict(np_letters)\n",
    "\n",
    "print(predictions)"
   ]
  },
  {
   "cell_type": "markdown",
   "id": "7f4fe82a-f35c-4504-9290-bfd4544ac7f8",
   "metadata": {},
   "source": [
    "**Interesanti**, bet TensorFlow versija apstiprināja manas šaubas par \"I\" un \"!\" lidzīguma problēmu, kāmēr bez TensorFlow klasifikācija nostrādāja pareizi. Ar parējiem burtiem arī ir redzamas problēmas - B tiek pieskaitīts pie 2. klases. Laikam vajag izmantot to pašu learning_rate:"
   ]
  },
  {
   "cell_type": "code",
   "execution_count": 10,
   "id": "fdb23df4-6655-4f33-bcde-4922a2c91ddb",
   "metadata": {
    "tags": []
   },
   "outputs": [
    {
     "name": "stdout",
     "output_type": "stream",
     "text": [
      "[[9.7850138e-01 3.9678505e-03 1.7529514e-02 1.2821092e-06]\n",
      " [7.9518217e-01 1.7347169e-01 3.1345189e-02 9.0954171e-07]\n",
      " [7.7770329e-01 2.1985644e-01 2.4283789e-03 1.1892006e-05]\n",
      " [1.7629546e-01 8.2368726e-01 1.4823294e-05 2.4451660e-06]\n",
      " [3.0767524e-01 6.7438763e-01 1.7931392e-02 5.6735616e-06]\n",
      " [1.1542365e-01 8.7913316e-01 5.4004663e-03 4.2619431e-05]\n",
      " [7.2594583e-02 7.8612077e-04 9.2661911e-01 1.0930746e-07]\n",
      " [2.4757013e-02 1.3824074e-04 9.7510457e-01 1.7496119e-07]\n",
      " [3.3068235e-03 3.2525688e-05 9.9658835e-01 7.2217714e-05]\n",
      " [8.8739239e-02 8.4000407e-03 2.7733073e-01 6.2553006e-01]\n",
      " [3.0002363e-02 3.2191142e-02 3.0051593e-02 9.0775484e-01]\n",
      " [1.3530486e-04 8.8708272e-04 4.0348867e-04 9.9857414e-01]]\n"
     ]
    }
   ],
   "source": [
    "model = tf.keras.models.Sequential()\n",
    "model.add(tf.keras.layers.Dense(15, kernel_regularizer=tf.keras.regularizers.l2(0.1), activation='sigmoid', input_shape=(15, )))\n",
    "model.add(tf.keras.layers.Dense(4, activation='softmax'))\n",
    "optimizer = tf.keras.optimizers.Adam(learning_rate=learning_rate)\n",
    "model.compile(optimizer=optimizer, loss='categorical_crossentropy')\n",
    "\n",
    "model.fit(np_letters, targets, epochs=1000, verbose=0)\n",
    "predictions = model.predict(np_letters)\n",
    "\n",
    "print(predictions)"
   ]
  },
  {
   "cell_type": "markdown",
   "id": "a383854c-fb4d-482d-9c47-fee519175c06",
   "metadata": {},
   "source": [
    "Tagad ir pariza atbilde. Bet darot 2. mājasdarbu, ieguvu nedaudz pieredzes un sapratu, ka pēc noklusējuma TensorFlow izmanto batch_size=32, bet oriģinālais modelis strādā batch_size=1 režīmā. Pārbaudīsim:"
   ]
  },
  {
   "cell_type": "code",
   "execution_count": 11,
   "id": "f4a85738-ee04-4ab8-8388-21df9ab2f157",
   "metadata": {},
   "outputs": [
    {
     "name": "stdout",
     "output_type": "stream",
     "text": [
      "[[3.05631578e-01 1.51655555e-01 4.88562882e-01 5.41500151e-02]\n",
      " [3.86233449e-01 3.92386198e-01 2.17745125e-01 3.63524002e-03]\n",
      " [3.63157481e-01 2.43554294e-01 3.74557376e-01 1.87308919e-02]\n",
      " [3.85635704e-01 4.00453389e-01 2.10592687e-01 3.31821805e-03]\n",
      " [3.86552691e-01 3.86719853e-01 2.22852662e-01 3.87472543e-03]\n",
      " [3.79664510e-01 4.43765670e-01 1.74557656e-01 2.01221416e-03]\n",
      " [2.96097517e-01 1.41287014e-01 5.01036882e-01 6.15785606e-02]\n",
      " [1.05644405e-01 2.51650922e-02 4.91024464e-01 3.78166050e-01]\n",
      " [1.33664876e-01 3.56054790e-02 5.28038085e-01 3.02691609e-01]\n",
      " [2.43924633e-02 3.45864682e-03 2.41100103e-01 7.31048822e-01]\n",
      " [3.15344590e-03 2.56100378e-04 7.01030493e-02 9.26487446e-01]\n",
      " [1.52069435e-03 1.02617458e-04 4.42582332e-02 9.54118490e-01]]\n"
     ]
    }
   ],
   "source": [
    "model = tf.keras.models.Sequential()\n",
    "model.add(tf.keras.layers.Dense(15, kernel_regularizer=tf.keras.regularizers.l2(0.1), activation='sigmoid', input_shape=(15, )))\n",
    "model.add(tf.keras.layers.Dense(4, activation='softmax'))\n",
    "optimizer = tf.keras.optimizers.Adam(learning_rate=learning_rate)\n",
    "model.compile(optimizer=optimizer, loss='categorical_crossentropy')\n",
    "\n",
    "model.fit(np_letters, targets, batch_size=1, epochs=1000, verbose=0)\n",
    "predictions = model.predict(np_letters)\n",
    "\n",
    "print(predictions)"
   ]
  },
  {
   "cell_type": "markdown",
   "id": "083eebf9-bff8-4280-90d3-31565ae46c8b",
   "metadata": {},
   "source": [
    "Abos gadījumos atbilde ir pareiza, bet oriģinālā tomēr precīzāk sanāca."
   ]
  }
 ],
 "metadata": {
  "kernelspec": {
   "display_name": "Python 3 (ipykernel)",
   "language": "python",
   "name": "python3"
  },
  "language_info": {
   "codemirror_mode": {
    "name": "ipython",
    "version": 3
   },
   "file_extension": ".py",
   "mimetype": "text/x-python",
   "name": "python",
   "nbconvert_exporter": "python",
   "pygments_lexer": "ipython3",
   "version": "3.9.9"
  }
 },
 "nbformat": 4,
 "nbformat_minor": 5
}
