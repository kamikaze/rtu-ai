{
 "cells": [
  {
   "cell_type": "markdown",
   "id": "fa8689b0-7cca-4e8a-b816-529b83918af9",
   "metadata": {},
   "source": [
    "<center><img src=\"./images/rtu_logo_lv.png\" alt=\"RTU\" title=\"RTU\" width=\"150em\"/></center>"
   ]
  },
  {
   "cell_type": "markdown",
   "id": "adca8b28-1ed7-4594-9732-5e5f41ab9752",
   "metadata": {},
   "source": [
    "<center><b>RĪGAS TEHNISKĀ UNIVERSITĀTE</b></center>\n",
    "<center><b>DATORZINĀTNES UN INFORMĀCIJAS TEHNOLOĢIJAS FAKULTĀTE</b></center>\n",
    "<center><b>Priekšmeta \"Ievads mākslīgos neironu tīklos\"</b></center><center>"
   ]
  },
  {
   "cell_type": "markdown",
   "id": "b37c4db9-d172-4feb-8398-d7054ab86b06",
   "metadata": {},
   "source": [
    "<center><b>1. mājasdarbs</b></center>"
   ]
  },
  {
   "cell_type": "markdown",
   "id": "2e109eb0-d604-47f1-a23c-07a62ef1ee76",
   "metadata": {},
   "source": [
    "<div style=\"text-align: right\">\n",
    "    LDsI 12300 Lietišķo datorsistēmu institūts<br>\n",
    "    RDBD0 Datorsistēmas<br>\n",
    "    <b>3. kursa 3. grupas</b> pilna laika klātienes <b>students</b><br>\n",
    "    Oļegs Korsaks<br>\n",
    "    <b>Studenta apliecības Nr.: </b>051RDB146<br>\n",
    "</div>\n",
    "<center><b>Rīga, 2021</b></center>\n",
    "<div style=\"display:none\">\\pagebreak</div>"
   ]
  },
  {
   "cell_type": "markdown",
   "id": "6a6f0e65-71a7-43bd-bbfb-9de9146b989c",
   "metadata": {},
   "source": [
    "***"
   ]
  },
  {
   "cell_type": "code",
   "execution_count": 1,
   "id": "1b232d25-cd40-4767-9661-e4059de522da",
   "metadata": {
    "tags": []
   },
   "outputs": [],
   "source": [
    "from math import exp\n",
    "from operator import methodcaller\n",
    "\n",
    "import numpy as np\n",
    "import tensorflow as tf"
   ]
  },
  {
   "cell_type": "code",
   "execution_count": 2,
   "id": "775d1208-4d5f-4d7e-8bbc-2c5c7503a5d4",
   "metadata": {
    "tags": []
   },
   "outputs": [],
   "source": [
    "letters = [\n",
    "    ['A',[0,1,0,1,0,1,1,1,1,1,0,1,1,0,1],[1,0,0]],\n",
    "    ['E',[1,1,1,1,0,0,1,1,0,1,0,0,1,1,1],[1,0,0]],\n",
    "    ['D',[1,1,0,1,0,1,1,0,1,1,0,1,1,1,0],[1,0,0]],\n",
    "    ['B',[1,1,0,1,0,1,1,1,0,1,0,1,1,1,0],[0,1,0]],\n",
    "    ['C',[1,1,1,1,0,0,1,0,0,1,0,0,1,1,1],[0,1,0]],\n",
    "    ['F',[1,1,1,1,0,0,1,1,0,1,0,0,1,0,0],[0,1,0]],\n",
    "    ['G',[1,1,1,1,0,0,1,0,1,1,0,1,1,1,1],[0,0,1]],\n",
    "    ['H',[1,0,1,1,0,1,1,1,1,1,0,1,1,0,1],[0,0,1]],\n",
    "    ['I',[0,1,0,0,1,0,0,1,0,0,1,0,0,1,0],[0,0,1]],\n",
    "]"
   ]
  },
  {
   "cell_type": "code",
   "execution_count": 3,
   "id": "b4cc2e86-3c05-4470-b023-bfcde014d40f",
   "metadata": {
    "tags": []
   },
   "outputs": [],
   "source": [
    "def a_step(val):\n",
    "    return int(val>0)\n",
    "\n",
    "\n",
    "def a_lin(val):\n",
    "    if val <= 0:\n",
    "        return 0\n",
    "    elif val > 5:\n",
    "        return 1\n",
    "    \n",
    "    return val/5\n",
    "\n",
    "\n",
    "def a_sigmoid(val):\n",
    "    return 1.0 / (1.0+exp(-val))\n",
    "\n",
    "\n",
    "def a_tanh(val):\n",
    "    return (exp(val)-exp(-val)) / (exp(val)+exp(-val))"
   ]
  },
  {
   "cell_type": "code",
   "execution_count": 4,
   "id": "154b0050-4c56-462e-a161-3aa44943feeb",
   "metadata": {
    "tags": []
   },
   "outputs": [],
   "source": [
    "learning_rate = 0.1\n",
    "\n",
    "\n",
    "class Neiron:\n",
    "    def __init__(self, in_size):\n",
    "        self.weights = np.zeros(in_size)\n",
    "        self.w0 = 0\n",
    "\n",
    "    def classify(self, incoming_signals):\n",
    "        net = np.dot(incoming_signals, self.weights) + self.w0\n",
    "        \n",
    "        return a_step(net)\n",
    "    \n",
    "    def learn(self, incoming_signals, c):\n",
    "        y = self.classify(incoming_signals)\n",
    "        delta = c - y\n",
    "        \n",
    "        if delta:\n",
    "            for i in range(len(self.weights)):\n",
    "                self.weights[i] += delta * learning_rate * incoming_signals[i]\n",
    "\n",
    "            self.w0 += delta * learning_rate"
   ]
  },
  {
   "cell_type": "code",
   "execution_count": 5,
   "id": "75511cc1-3be4-4c3e-95e6-0eb050b33d85",
   "metadata": {
    "tags": []
   },
   "outputs": [],
   "source": [
    "def run_neirons(data: list, neiron_class, in_size: int, class_count: int, epoch_count: int = 100):\n",
    "    neirons = tuple(neiron_class(in_size) for _ in range(class_count))\n",
    "    \n",
    "    for epoch in range(epoch_count):\n",
    "        for sample in data:\n",
    "            for i, neiron in enumerate(neirons):\n",
    "                neiron.learn(sample[1], sample[2][i])\n",
    "    \n",
    "    for sample in data:\n",
    "        method = methodcaller('classify', sample[1])\n",
    "        print(f'{sample[0]} {tuple(map(method, neirons))}')\n",
    "    \n",
    "    for neiron in neirons:\n",
    "        print(neiron.weights)"
   ]
  },
  {
   "cell_type": "code",
   "execution_count": 6,
   "id": "ce225161-ce90-4ae0-9d88-c1a6b06d950c",
   "metadata": {
    "tags": []
   },
   "outputs": [
    {
     "name": "stdout",
     "output_type": "stream",
     "text": [
      "A (1, 0, 0)\n",
      "E (1, 0, 0)\n",
      "D (1, 0, 0)\n",
      "B (0, 1, 0)\n",
      "C (0, 1, 0)\n",
      "F (0, 1, 0)\n",
      "G (0, 0, 1)\n",
      "H (0, 0, 1)\n",
      "I (0, 0, 1)\n",
      "[-0.7  0.5 -0.8  0.  -0.6 -0.3  0.   0.9  1.8  0.  -0.6 -1.   0.   0.3\n",
      "  0.4]\n",
      "[ 0.2  0.2 -0.4  0.2 -0.2  0.4  0.2 -0.7 -1.7  0.2 -0.2 -0.1  0.2  0.2\n",
      " -0.4]\n",
      "[ 0.2 -0.3  0.3 -0.2  0.3 -0.1 -0.2 -0.2  0.4 -0.2  0.3  0.4 -0.2  0.1\n",
      " -0.1]\n"
     ]
    }
   ],
   "source": [
    "run_neirons(letters, Neiron, 15, 3, 100)"
   ]
  },
  {
   "cell_type": "markdown",
   "id": "c70d54bc-cabe-44b8-8709-a5891a41d16f",
   "metadata": {},
   "source": [
    "## Mājasdarbs 1"
   ]
  },
  {
   "cell_type": "markdown",
   "id": "82e140e5-5d74-40e1-a089-a789708b633f",
   "metadata": {},
   "source": [
    "Pārveidosim neirona klasi, lai viņš varētu klasificēt 4 klašu simbolus. Pievienosim ! _ un . simbolus"
   ]
  },
  {
   "cell_type": "code",
   "execution_count": 7,
   "id": "a8d6dbd1-d88f-4d7c-ac35-b49a61c0cb4c",
   "metadata": {
    "tags": []
   },
   "outputs": [],
   "source": [
    "letters = [\n",
    "    ['A',[0,1,0,1,0,1,1,1,1,1,0,1,1,0,1],[1,0,0,0]],\n",
    "    ['E',[1,1,1,1,0,0,1,1,0,1,0,0,1,1,1],[1,0,0,0]],\n",
    "    ['D',[1,1,0,1,0,1,1,0,1,1,0,1,1,1,0],[1,0,0,0]],\n",
    "    ['B',[1,1,0,1,0,1,1,1,0,1,0,1,1,1,0],[0,1,0,0]],\n",
    "    ['C',[1,1,1,1,0,0,1,0,0,1,0,0,1,1,1],[0,1,0,0]],\n",
    "    ['F',[1,1,1,1,0,0,1,1,0,1,0,0,1,0,0],[0,1,0,0]],\n",
    "    ['G',[1,1,1,1,0,0,1,0,1,1,0,1,1,1,1],[0,0,1,0]],\n",
    "    ['H',[1,0,1,1,0,1,1,1,1,1,0,1,1,0,1],[0,0,1,0]],\n",
    "    ['I',[0,1,0,0,1,0,0,1,0,0,1,0,0,1,0],[0,0,1,0]],\n",
    "    \n",
    "    ['!',[0,1,0,0,1,0,0,1,0,0,0,0,0,1,0],[0,0,0,1]],\n",
    "    ['_',[0,0,0,0,0,0,0,0,0,0,0,0,1,1,1],[0,0,0,1]],\n",
    "    ['.',[0,0,0,0,0,0,0,0,0,0,0,0,0,1,0],[0,0,0,1]],\n",
    "]\n",
    "\n",
    "\n",
    "class NeironHome:\n",
    "    def __init__(self, in_size):\n",
    "        self.weights = np.zeros(in_size)\n",
    "        self.w0 = 0\n",
    "\n",
    "    def classify(self, incoming_signals):\n",
    "        net = np.dot(incoming_signals, self.weights) + self.w0\n",
    "        \n",
    "        return a_sigmoid(net)\n",
    "    \n",
    "    def learn(self, incoming_signals, c):\n",
    "        y = self.classify(incoming_signals)\n",
    "        delta = c - y\n",
    "        \n",
    "        if delta:\n",
    "            for i in range(len(self.weights)):\n",
    "                self.weights[i] += delta * learning_rate * incoming_signals[i]\n",
    "\n",
    "            self.w0 += delta * learning_rate"
   ]
  },
  {
   "cell_type": "code",
   "execution_count": 8,
   "id": "406fb981-3022-4c89-b99c-4e8e14462034",
   "metadata": {
    "tags": []
   },
   "outputs": [
    {
     "name": "stdout",
     "output_type": "stream",
     "text": [
      "A (0.9975535051097201, 6.660629571448497e-06, 0.008248493415553408, 0.00013232113048282796)\n",
      "E (0.8293688905071558, 0.07107663617372244, 0.00345475745807826, 0.0008908342725369956)\n",
      "D (0.8834289329308431, 0.040197189905192325, 0.005393751338105291, 0.000374360388021805)\n",
      "B (0.06296538404255056, 0.9611077227614221, 2.5487150667717718e-05, 0.00044414160389372084)\n",
      "C (0.08063124850588929, 0.941473518306242, 0.00588321544731504, 0.0016078235509806357)\n",
      "F (0.02633476838322883, 0.9911138221082045, 0.0034084107149066696, 2.9723027415453927e-05)\n",
      "G (0.04066958299013252, 0.00015968439826207983, 0.9849054420714136, 0.0002711874602893066)\n",
      "H (0.02117992296299061, 1.3000067100018376e-05, 0.9923537292619337, 1.8435006117880236e-05)\n",
      "I (0.0037253089873815924, 2.5566882336613036e-05, 0.9800763983367607, 0.02047026562186848)\n",
      "! (0.018415486080804077, 4.3871158090628676e-05, 0.013755496597630701, 0.9781077632338467)\n",
      "_ (0.00838609151522248, 0.00038552142987693667, 0.0020254630608827185, 0.9968259609187382)\n",
      ". (0.0038839340759217974, 0.004995083061712131, 0.00800573804759111, 0.9960332877179408)\n",
      "[-0.96971811  3.02707473 -5.84715074  2.04291745 -5.47099779  1.43491312\n",
      "  2.04291745  4.01496209  8.74040694  2.04291745 -1.61289704 -9.46736101\n",
      " -1.32174308  3.09533952  2.09599902]\n",
      "[  2.64463763   1.81057906  -0.16531172   2.1161967   -1.20226054\n",
      "   1.38486553   2.1161967   -5.34823445 -11.72845602   2.1161967\n",
      "  -0.53997756   0.20833762   1.45280894  -3.26555644  -4.01904348]\n",
      "[ 2.31781849 -2.16901855  5.16846656 -1.4156961   3.25090259 -2.57993762\n",
      " -1.4156961  -0.53479105  4.82541378 -1.4156961   8.16819129  4.48254881\n",
      " -3.02728362 -1.63336034  1.64691299]\n",
      "[-2.08268156 -1.67288091 -1.56129365 -2.28799329  0.53772179 -0.80409022\n",
      " -2.28799329 -0.59119619 -0.7621905  -2.28799329 -7.66758698 -1.01897379\n",
      " -0.21096341  2.96640624  0.4346916 ]\n"
     ]
    }
   ],
   "source": [
    "run_neirons(letters, NeironHome, 15, 4, 1000)"
   ]
  },
  {
   "cell_type": "markdown",
   "id": "f66f7453-7b45-4b93-a9c2-3ec636d91e8d",
   "metadata": {
    "tags": []
   },
   "source": [
    "**Ir redzams, ka \"!\", \"\\_\" un \".\" simboli tiek klasificēti kā 4. klase. Citu burtu klasifikācija nemainās.**"
   ]
  },
  {
   "cell_type": "markdown",
   "id": "34db5a21-6412-4f7e-b498-5ea6f865d389",
   "metadata": {},
   "source": [
    "Pārtaisīsim TensorFlow kodu, lai viņš klasificētu burtus:"
   ]
  },
  {
   "cell_type": "code",
   "execution_count": 9,
   "id": "bd882d44-ab8b-4bb4-97d9-04f1fc4042ab",
   "metadata": {},
   "outputs": [
    {
     "name": "stdout",
     "output_type": "stream",
     "text": [
      "[[0 1 0 1 0 1 1 1 1 1 0 1 1 0 1]\n",
      " [1 1 1 1 0 0 1 1 0 1 0 0 1 1 1]\n",
      " [1 1 0 1 0 1 1 0 1 1 0 1 1 1 0]\n",
      " [1 1 0 1 0 1 1 1 0 1 0 1 1 1 0]\n",
      " [1 1 1 1 0 0 1 0 0 1 0 0 1 1 1]\n",
      " [1 1 1 1 0 0 1 1 0 1 0 0 1 0 0]\n",
      " [1 1 1 1 0 0 1 0 1 1 0 1 1 1 1]\n",
      " [1 0 1 1 0 1 1 1 1 1 0 1 1 0 1]\n",
      " [0 1 0 0 1 0 0 1 0 0 1 0 0 1 0]\n",
      " [0 1 0 0 1 0 0 1 0 0 0 0 0 1 0]\n",
      " [0 0 0 0 0 0 0 0 0 0 0 0 1 1 1]\n",
      " [0 0 0 0 0 0 0 0 0 0 0 0 0 1 0]]\n",
      "[[1 0 0 0]\n",
      " [1 0 0 0]\n",
      " [1 0 0 0]\n",
      " [0 1 0 0]\n",
      " [0 1 0 0]\n",
      " [0 1 0 0]\n",
      " [0 0 1 0]\n",
      " [0 0 1 0]\n",
      " [0 0 1 0]\n",
      " [0 0 0 1]\n",
      " [0 0 0 1]\n",
      " [0 0 0 1]]\n",
      "[[0.4057499  0.2425949  0.2663701  0.08528512]\n",
      " [0.30167082 0.33106974 0.24818288 0.11907658]\n",
      " [0.37733    0.2791558  0.24807459 0.09543963]\n",
      " [0.36596152 0.3197736  0.21923439 0.09503048]\n",
      " [0.2787835  0.32859215 0.24841893 0.14420544]\n",
      " [0.2959681  0.35381326 0.2363469  0.11387179]\n",
      " [0.32631972 0.27099514 0.30222756 0.10045753]\n",
      " [0.33388078 0.25433013 0.3253257  0.08646336]\n",
      " [0.0913469  0.1572321  0.279085   0.47233593]\n",
      " [0.08640224 0.15662202 0.23808245 0.51889324]\n",
      " [0.07208201 0.13494064 0.20582598 0.58715135]\n",
      " [0.0515318  0.11512755 0.18218212 0.6511586 ]]\n"
     ]
    }
   ],
   "source": [
    "model = tf.keras.models.Sequential()\n",
    "model.add(tf.keras.layers.Dense(15, kernel_regularizer=tf.keras.regularizers.l2(0.1), activation='sigmoid', input_shape=(15, )))\n",
    "model.add(tf.keras.layers.Dense(4, activation='softmax'))\n",
    "model.compile(optimizer='adam', loss='categorical_crossentropy')\n",
    "\n",
    "np_letters = np.array(tuple(np.array(letter[1]) for letter in letters))\n",
    "print(np_letters)\n",
    "targets = np.array(tuple(np.array(letter[2]) for letter in letters))\n",
    "print(targets)\n",
    "\n",
    "model.fit(np_letters, targets, epochs=1000, verbose=0)\n",
    "predictions = model.predict(np_letters)\n",
    "\n",
    "print(predictions)"
   ]
  },
  {
   "cell_type": "markdown",
   "id": "7f4fe82a-f35c-4504-9290-bfd4544ac7f8",
   "metadata": {},
   "source": [
    "**Interesanti**, bet TensorFlow versija apstiprināja manas šaubas par \"I\" un \"!\" lidzīguma problēmu, kāmēr bez TensorFlow klasifikācija nostrādāja pareizi. Ar parējiem burtiem arī ir redzamas problēmas - B tiek pieskaitīts pie 2. klases. Vispirms domāju, ka epohu skaits ir pie vainas, bet, darot 2. mājasdarbu, ieguvu nedaudz pieredzes un sapratu, ka pēc noklusējuma TensorFlow izmanto batch_size=32, bet oriģinālais modelis strādā batch_size=1 režīmā. Pārbaudīsim:"
   ]
  },
  {
   "cell_type": "code",
   "execution_count": 10,
   "id": "fdb23df4-6655-4f33-bcde-4922a2c91ddb",
   "metadata": {
    "tags": []
   },
   "outputs": [
    {
     "name": "stdout",
     "output_type": "stream",
     "text": [
      "[[0.46556696 0.20971623 0.28771672 0.03700005]\n",
      " [0.3171911  0.41533726 0.21253535 0.05493634]\n",
      " [0.4245003  0.29753134 0.23495908 0.0430093 ]\n",
      " [0.39692888 0.41605994 0.15271471 0.03429645]\n",
      " [0.2911333  0.41151187 0.21722504 0.08012976]\n",
      " [0.29453287 0.4920148  0.16841164 0.04504079]\n",
      " [0.32661724 0.2329083  0.38682872 0.05364579]\n",
      " [0.31730422 0.19451658 0.44316012 0.04501912]\n",
      " [0.0874395  0.10797236 0.3486351  0.45595306]\n",
      " [0.0668207  0.09721947 0.22486073 0.6110991 ]\n",
      " [0.03653334 0.05261028 0.14601709 0.76483935]\n",
      " [0.02317738 0.04201355 0.11418518 0.82062393]]\n"
     ]
    }
   ],
   "source": [
    "model.fit(np_letters, targets, batch_size=1, epochs=1000, verbose=0)\n",
    "predictions = model.predict(np_letters)\n",
    "\n",
    "print(predictions)"
   ]
  },
  {
   "cell_type": "markdown",
   "id": "083eebf9-bff8-4280-90d3-31565ae46c8b",
   "metadata": {},
   "source": [
    "Tagad sakrīt."
   ]
  }
 ],
 "metadata": {
  "kernelspec": {
   "display_name": "Python 3 (ipykernel)",
   "language": "python",
   "name": "python3"
  },
  "language_info": {
   "codemirror_mode": {
    "name": "ipython",
    "version": 3
   },
   "file_extension": ".py",
   "mimetype": "text/x-python",
   "name": "python",
   "nbconvert_exporter": "python",
   "pygments_lexer": "ipython3",
   "version": "3.9.9"
  }
 },
 "nbformat": 4,
 "nbformat_minor": 5
}
