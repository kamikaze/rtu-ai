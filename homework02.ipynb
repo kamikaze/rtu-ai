{
 "cells": [
  {
   "cell_type": "markdown",
   "id": "f9848fd9-5597-4544-9d04-a370d19aa267",
   "metadata": {},
   "source": [
    "# 2. Mājasdarbs. Oļegs Korsaks 051RDB146\n",
    "• Atrast datu kopu internetā. Piemēram no Awesomedata vai UCI Machine Learning\n",
    "\n",
    "Repository vai citur\n",
    "\n",
    "– Vēlams ar simtiem līdz tūkstošiem ierakstiem,\n",
    "\n",
    "– Vēlams desmitiem atribūtiem,\n",
    "\n",
    "– Skaitliskās vērtības atribūtos,\n",
    "\n",
    "– Ar mērķa klasi/klasēm, bet var arī nepārtraukta vērtība,\n",
    "\n",
    "– Dažām datu kopām var nebūt izvirzīta mērķa klase. Šādos gadījumos var izmantot vienu no atribūtiem par mērķa klasi (ja ir iespējams loģiski pamatot).\n",
    "\n",
    "• Sadalīt datu kopu apmācības un testa kopās.\n",
    "\n",
    "• Izveidot daudzslāņu mākslīgo neironu tīklu ar tensorflow un veikt apmācību.\n",
    "\n",
    "• Aprēķināt un novērtēt apmācības un testa kopas kļūdu.\n",
    "\n",
    "• Pamainīt tīkla konfigurāciju un novērtēt izmaiņu ietekmi\n",
    "\n",
    "– Arhitektūru – slēpto slāņu skaits, neironu skaits slāņos,\n",
    "\n",
    "– Aktivācijas funkcijas,\n",
    "\n",
    "– Optimizācijas metodi."
   ]
  },
  {
   "cell_type": "code",
   "execution_count": null,
   "id": "a0ff12b0-3551-40f8-a5f1-6f6610e83b29",
   "metadata": {},
   "outputs": [],
   "source": [
    "import numpy as np\n",
    "import pandas as pd\n",
    "import seaborn as sns\n",
    "import tensorflow as tf\n",
    "\n",
    "gpus = tf.config.list_physical_devices('GPU')\n",
    "\n",
    "if gpus:\n",
    "    # Restrict TensorFlow to only allocate 1GB of memory on the first GPU\n",
    "    try:\n",
    "        tf.config.experimental.set_memory_growth(gpus[0], True)\n",
    "\n",
    "        # config = tf.compat.v1.ConfigProto()\n",
    "        # config.gpu_options.per_process_gpu_memory_fraction = 0.2\n",
    "        # config.gpu_options.allow_growth = True\n",
    "        # session = tf.compat.v1.InteractiveSession(config=config)\n",
    "        tf.config.set_logical_device_configuration(\n",
    "            gpus[0],\n",
    "            [tf.config.LogicalDeviceConfiguration(memory_limit=2500)]\n",
    "        )\n",
    "        logical_gpus = tf.config.list_logical_devices('GPU')\n",
    "        print(f'{len(gpus)} Physical GPUs, {len(logical_gpus)} Logical GPUs')\n",
    "    except RuntimeError as e:\n",
    "        # Virtual devices must be set before GPUs have been initialized\n",
    "        print(e)\n",
    "\n",
    "sns.set_context('notebook', font_scale=2.0)\n",
    "sns.set_style('darkgrid')\n",
    "\n",
    "from imblearn.over_sampling import SMOTE\n",
    "from matplotlib import pyplot as plt\n",
    "\n",
    "%matplotlib inline\n",
    "\n",
    "from sklearn.model_selection import train_test_split"
   ]
  },
  {
   "cell_type": "markdown",
   "id": "76b0ed0c-e518-472d-b8ec-b3d10453b80f",
   "metadata": {},
   "source": [
    "## Datu ielāde"
   ]
  },
  {
   "cell_type": "code",
   "execution_count": null,
   "id": "e3859c96-03a4-4a50-ad05-72ff489cda26",
   "metadata": {},
   "outputs": [],
   "source": [
    "data = pd.read_csv('data/winequality-white.csv', sep=';')"
   ]
  },
  {
   "cell_type": "markdown",
   "id": "4968c626-1059-41f7-a8ba-cc633788f17b",
   "metadata": {},
   "source": [
    "### Datu analīze"
   ]
  },
  {
   "cell_type": "code",
   "execution_count": null,
   "id": "82600c41-0f18-4dc3-8169-6c6d39b2ca94",
   "metadata": {},
   "outputs": [],
   "source": [
    "data.head()"
   ]
  },
  {
   "cell_type": "code",
   "execution_count": null,
   "id": "743e374c-1b1e-4f99-b10b-ea577f5d8bad",
   "metadata": {},
   "outputs": [],
   "source": [
    "data.info()"
   ]
  },
  {
   "cell_type": "code",
   "execution_count": null,
   "id": "51dcc692-9f8e-4491-b5c9-7032a25ecca6",
   "metadata": {},
   "outputs": [],
   "source": [
    "data.describe().T"
   ]
  },
  {
   "cell_type": "markdown",
   "id": "001286cc-29fc-4546-b812-d6fe40b96760",
   "metadata": {},
   "source": [
    "## Datu vizualizācija un analīze"
   ]
  },
  {
   "cell_type": "markdown",
   "id": "7888cb8f",
   "metadata": {
    "pycharm": {
     "name": "#%% md\n"
    }
   },
   "source": [
    "Paskatīsimies, vai ir dati, kuru vērtības ļoti atšķiras no vairuma."
   ]
  },
  {
   "cell_type": "code",
   "execution_count": null,
   "id": "dec2562e",
   "metadata": {
    "collapsed": false,
    "jupyter": {
     "outputs_hidden": false
    },
    "pycharm": {
     "name": "#%%\n"
    }
   },
   "outputs": [],
   "source": [
    "fig, ax = plt.subplots(ncols=6, nrows=2, figsize=(20, 10))\n",
    "index = 0\n",
    "ax = ax.flatten()\n",
    "\n",
    "for col, value in data.items():\n",
    "    sns.boxplot(y=col, data=data, ax=ax[index])\n",
    "    index += 1\n",
    "\n",
    "plt.tight_layout(pad=0.5, w_pad=0.0)"
   ]
  },
  {
   "cell_type": "markdown",
   "id": "b919f363",
   "metadata": {
    "pycharm": {
     "name": "#%% md\n"
    }
   },
   "source": [
    "Dažiem (piem. \"total sulfur dioxide\") ir tādas vērtības. Varbūt tie ietekmēs precizitāti."
   ]
  },
  {
   "cell_type": "markdown",
   "id": "0b74ef6c",
   "metadata": {
    "pycharm": {
     "name": "#%% md\n"
    }
   },
   "source": [
    "Paskatīsimies uz vērtību sadali."
   ]
  },
  {
   "cell_type": "code",
   "execution_count": null,
   "id": "151aa01f",
   "metadata": {
    "collapsed": false,
    "jupyter": {
     "outputs_hidden": false
    },
    "pycharm": {
     "name": "#%%\n"
    }
   },
   "outputs": [],
   "source": [
    "fig, ax = plt.subplots(ncols=6, nrows=2, figsize=(20, 10))\n",
    "index = 0\n",
    "ax = ax.flatten()\n",
    "\n",
    "for col, value in data.items():\n",
    "    sns.histplot(value, ax=ax[index])\n",
    "    index += 1\n",
    "\n",
    "plt.tight_layout(pad=0.5, w_pad=0.0)"
   ]
  },
  {
   "cell_type": "code",
   "execution_count": null,
   "id": "37c1c77c",
   "metadata": {
    "collapsed": false,
    "jupyter": {
     "outputs_hidden": false
    },
    "pycharm": {
     "name": "#%%\n"
    }
   },
   "outputs": [],
   "source": [
    "sns.countplot(x=data['quality'])"
   ]
  },
  {
   "cell_type": "markdown",
   "id": "65c17b14",
   "metadata": {},
   "source": [
    "Bet \"quality\" gan ir cita lieta - mums pārsvārā ir vērtības 5,6 un pat nav dažu vērtību vispār. Tāda klašu nelīdzsvarotība nozīmē, ka modelis varēs labi noklasificēt tikai 5. un 6. kvalitātes gadījumus. Tātad datus būs janobalansē."
   ]
  },
  {
   "cell_type": "markdown",
   "id": "77a1705a",
   "metadata": {
    "pycharm": {
     "name": "#%% md\n"
    }
   },
   "source": [
    "### Paramtetru korelācija"
   ]
  },
  {
   "cell_type": "code",
   "execution_count": null,
   "id": "c86d3c72",
   "metadata": {
    "collapsed": false,
    "jupyter": {
     "outputs_hidden": false
    },
    "pycharm": {
     "name": "#%%\n"
    }
   },
   "outputs": [],
   "source": [
    "corr = data.corr()\n",
    "plt.figure(figsize=(20, 10))\n",
    "sns.heatmap(corr, annot=True, cmap='coolwarm')"
   ]
  },
  {
   "cell_type": "markdown",
   "id": "cf39b040",
   "metadata": {},
   "source": [
    "Te ir redzams, ka \"alcohol\" ietekmē kvalitāti visvairāk, tātad tas ir svārīgs parametrs. Vēl alkohols korelē ar blīvumu (density), tas nozīmē, ka varam atstāt tikai vienu. Tas pats attiecas uz \"free\"/\"total\" sulfur dioxide, un dažu veidu skābumi (acidity). Ja būs problēmas ar precizitāti - varbūt noņemšu tos."
   ]
  },
  {
   "cell_type": "markdown",
   "id": "94a4ab1a",
   "metadata": {
    "pycharm": {
     "name": "#%% md\n"
    }
   },
   "source": [
    "## Datu sadalīšana apmācības un pārbaudes kopās"
   ]
  },
  {
   "cell_type": "code",
   "execution_count": null,
   "id": "2af328f1",
   "metadata": {
    "collapsed": false,
    "jupyter": {
     "outputs_hidden": false
    },
    "pycharm": {
     "name": "#%%\n"
    }
   },
   "outputs": [],
   "source": [
    "samples = data.copy()\n",
    "# samples.pop('free sulfur dioxide')\n",
    "# samples.pop('citric acid')\n",
    "qualities = samples.pop('quality')"
   ]
  },
  {
   "cell_type": "markdown",
   "id": "b88784f9",
   "metadata": {
    "pycharm": {
     "name": "#%% md\n"
    }
   },
   "source": [
    "### Klašu vērtību balansēšana"
   ]
  },
  {
   "cell_type": "code",
   "execution_count": null,
   "id": "a64b26fd",
   "metadata": {
    "collapsed": false,
    "jupyter": {
     "outputs_hidden": false
    },
    "pycharm": {
     "name": "#%%\n"
    }
   },
   "outputs": [],
   "source": [
    "qualities.value_counts()"
   ]
  },
  {
   "cell_type": "code",
   "execution_count": null,
   "id": "37623fea",
   "metadata": {
    "collapsed": false,
    "jupyter": {
     "outputs_hidden": false
    },
    "pycharm": {
     "name": "#%%\n"
    }
   },
   "outputs": [],
   "source": [
    "oversample = SMOTE(k_neighbors=4)\n",
    "samples, qualities = oversample.fit_resample(samples, qualities)"
   ]
  },
  {
   "cell_type": "code",
   "execution_count": null,
   "id": "9c9b8f01",
   "metadata": {
    "collapsed": false,
    "jupyter": {
     "outputs_hidden": false
    },
    "pycharm": {
     "name": "#%%\n"
    }
   },
   "outputs": [],
   "source": [
    "qualities.value_counts()"
   ]
  },
  {
   "cell_type": "markdown",
   "id": "541502f5",
   "metadata": {
    "pycharm": {
     "name": "#%% md\n"
    }
   },
   "source": [
    "Dati tika sabalansēti."
   ]
  },
  {
   "cell_type": "code",
   "execution_count": null,
   "id": "9cf0a9d2",
   "metadata": {
    "collapsed": false,
    "jupyter": {
     "outputs_hidden": false
    },
    "pycharm": {
     "name": "#%%\n"
    }
   },
   "outputs": [],
   "source": [
    "# samples['fixed acidity'] = np.log(samples['fixed acidity'] + 0.01)\n",
    "# samples['residual sugar'] = np.log(samples['residual sugar'] + 0.01)\n",
    "# samples['free sulfur dioxide'] = np.log(samples['free sulfur dioxide'] + 0.01)\n",
    "# samples['total sulfur dioxide'] = np.log(samples['total sulfur dioxide'] + 0.01)\n",
    "\n",
    "tf.convert_to_tensor(samples)"
   ]
  },
  {
   "cell_type": "code",
   "execution_count": null,
   "outputs": [],
   "source": [
    "normalizer = tf.keras.layers.Normalization(axis=-1)\n",
    "normalizer.adapt(samples)"
   ],
   "metadata": {
    "collapsed": false,
    "pycharm": {
     "name": "#%%\n"
    }
   }
  },
  {
   "cell_type": "markdown",
   "source": [
    "Izveidosim modeli ar vienu slēpto slāni ar input_count neironiem un izejas slāni ar vienu neironu."
   ],
   "metadata": {
    "collapsed": false
   }
  },
  {
   "cell_type": "code",
   "execution_count": null,
   "id": "d662fc7b-8a20-423d-bf56-08a5e3aab8db",
   "metadata": {},
   "outputs": [],
   "source": [
    "def build_model(input_count: int, normalizer):\n",
    "    init = tf.keras.initializers.TruncatedNormal(stddev=0.01, seed=42)\n",
    "    model = tf.keras.models.Sequential([\n",
    "        normalizer,\n",
    "        tf.keras.layers.Dense(input_count, kernel_initializer=init, activation='relu', input_shape=(input_count,)),\n",
    "        tf.keras.layers.Dense(1)\n",
    "    ])\n",
    "\n",
    "    adam = tf.keras.optimizers.Adam(learning_rate=0.0005)\n",
    "\n",
    "    model.compile(loss='mse', optimizer=adam, metrics=['mse'])\n",
    "\n",
    "    return model"
   ]
  },
  {
   "cell_type": "code",
   "execution_count": null,
   "id": "58282418-e192-4767-833c-4d568a1dba2d",
   "metadata": {},
   "outputs": [],
   "source": [
    "attr_count = len(samples.keys())\n",
    "print(attr_count, len(qualities.value_counts()))"
   ]
  },
  {
   "cell_type": "markdown",
   "id": "0d6849e2",
   "metadata": {},
   "source": [
    "Mums ir 11 atribūti un 7 klases, jo nav datu priekš citām klasēm.\n",
    "Tagad uzbūvēsim modeli un trenēsim to:"
   ]
  },
  {
   "cell_type": "code",
   "execution_count": null,
   "outputs": [],
   "source": [
    "def plot_history(history):\n",
    "    plt.figure(figsize=(18, 10))\n",
    "    plt.plot(history.history['mse'])\n",
    "    plt.plot(history.history['val_mse'])\n",
    "    plt.title('model_mse')\n",
    "    plt.ylabel('error')\n",
    "    plt.xlabel('epoch')\n",
    "    plt.legend(['train', 'test'], loc='best')\n",
    "    plt.show()"
   ],
   "metadata": {
    "collapsed": false,
    "pycharm": {
     "name": "#%%\n"
    }
   }
  },
  {
   "cell_type": "code",
   "execution_count": null,
   "outputs": [],
   "source": [
    "def evaluate_model(model, samples, qualities, epochs=100):\n",
    "    samples_train, samples_test, qualities_train, qualities_test = train_test_split(samples, qualities, test_size=0.3,\n",
    "                                                                                    random_state=0)\n",
    "    history = model.fit(samples_train, qualities_train, validation_data=(samples_test, qualities_test), shuffle=False,\n",
    "                        epochs=epochs, verbose=0)\n",
    "    plot_history(history)\n",
    "    result = model.predict(samples_test)\n",
    "\n",
    "    for sample_idx in (-5, -10, -20):\n",
    "        print(f'Predicted: {result[sample_idx][0]}, Expected: {qualities_test.iat[sample_idx]}')"
   ],
   "metadata": {
    "collapsed": false,
    "pycharm": {
     "name": "#%%\n"
    }
   }
  },
  {
   "cell_type": "code",
   "execution_count": null,
   "id": "5b012616",
   "metadata": {
    "collapsed": false,
    "jupyter": {
     "outputs_hidden": false
    },
    "pycharm": {
     "name": "#%%\n"
    }
   },
   "outputs": [],
   "source": [
    "model = build_model(attr_count, normalizer)\n",
    "evaluate_model(model, samples, qualities, epochs=100)"
   ]
  },
  {
   "cell_type": "markdown",
   "source": [
    "Nav tik labi rezultāti. Pievienosim vēl divus tik pat lielus slāņus."
   ],
   "metadata": {
    "collapsed": false
   }
  },
  {
   "cell_type": "code",
   "execution_count": null,
   "outputs": [],
   "source": [
    "def build_model(input_count: int, normalizer):\n",
    "    init = tf.keras.initializers.TruncatedNormal(stddev=0.01, seed=42)\n",
    "    model = tf.keras.models.Sequential([\n",
    "        normalizer,\n",
    "        tf.keras.layers.Dense(input_count, kernel_initializer=init, activation='relu', input_shape=(input_count,)),\n",
    "        tf.keras.layers.Dense(input_count, activation='relu'),\n",
    "        tf.keras.layers.Dense(input_count, activation='relu'),\n",
    "        tf.keras.layers.Dense(1)\n",
    "    ])\n",
    "\n",
    "    adam = tf.keras.optimizers.Adam(learning_rate=0.0005)\n",
    "\n",
    "    model.compile(loss='mse', optimizer=adam, metrics=['mse'])\n",
    "\n",
    "    return model"
   ],
   "metadata": {
    "collapsed": false,
    "pycharm": {
     "name": "#%%\n"
    }
   }
  },
  {
   "cell_type": "code",
   "execution_count": null,
   "outputs": [],
   "source": [
    "model = build_model(attr_count, normalizer)\n",
    "evaluate_model(model, samples, qualities, epochs=100)"
   ],
   "metadata": {
    "collapsed": false,
    "pycharm": {
     "name": "#%%\n"
    }
   }
  },
  {
   "cell_type": "markdown",
   "source": [
    "Pamainīsim neironu skaitu slāņos."
   ],
   "metadata": {
    "collapsed": false
   }
  },
  {
   "cell_type": "code",
   "execution_count": null,
   "outputs": [],
   "source": [
    "def build_model(input_count: int, normalizer):\n",
    "    init = tf.keras.initializers.TruncatedNormal(stddev=0.01, seed=42)\n",
    "    model = tf.keras.models.Sequential([\n",
    "        normalizer,\n",
    "        tf.keras.layers.Dense(32, kernel_initializer=init, activation='relu', input_shape=(input_count,)),\n",
    "        tf.keras.layers.Dense(16, activation='relu'),\n",
    "        tf.keras.layers.Dense(8, activation='relu'),\n",
    "        tf.keras.layers.Dense(1)\n",
    "    ])\n",
    "\n",
    "    adam = tf.keras.optimizers.Adam(learning_rate=0.0005)\n",
    "\n",
    "    model.compile(loss='mse', optimizer=adam, metrics=['mse'])\n",
    "\n",
    "    return model"
   ],
   "metadata": {
    "collapsed": false,
    "pycharm": {
     "name": "#%%\n"
    }
   }
  },
  {
   "cell_type": "code",
   "execution_count": null,
   "outputs": [],
   "source": [
    "model = build_model(attr_count, normalizer)\n",
    "evaluate_model(model, samples, qualities, epochs=100)"
   ],
   "metadata": {
    "collapsed": false,
    "pycharm": {
     "name": "#%%\n"
    }
   }
  },
  {
   "cell_type": "markdown",
   "source": [
    "Pamēģināšu to pašu modeli bet ar vairākām epohām, 1000."
   ],
   "metadata": {
    "collapsed": false
   }
  },
  {
   "cell_type": "code",
   "execution_count": null,
   "outputs": [],
   "source": [
    "model = build_model(attr_count, normalizer)\n",
    "evaluate_model(model, samples, qualities, epochs=1000)"
   ],
   "metadata": {
    "collapsed": false,
    "pycharm": {
     "name": "#%%\n"
    }
   }
  },
  {
   "cell_type": "markdown",
   "source": [
    "Palielināšu learning rate x10."
   ],
   "metadata": {
    "collapsed": false
   }
  },
  {
   "cell_type": "code",
   "execution_count": null,
   "outputs": [],
   "source": [
    "def build_model(input_count: int, normalizer):\n",
    "    init = tf.keras.initializers.TruncatedNormal(stddev=0.01, seed=42)\n",
    "    model = tf.keras.models.Sequential([\n",
    "        normalizer,\n",
    "        tf.keras.layers.Dense(32, kernel_initializer=init, activation='relu', input_shape=(input_count,)),\n",
    "        tf.keras.layers.Dense(16, activation='relu'),\n",
    "        tf.keras.layers.Dense(8, activation='relu'),\n",
    "        tf.keras.layers.Dense(1)\n",
    "    ])\n",
    "\n",
    "    adam = tf.keras.optimizers.Adam(learning_rate=0.005)\n",
    "\n",
    "    model.compile(loss='mse', optimizer=adam, metrics=['mse'])\n",
    "\n",
    "    return model"
   ],
   "metadata": {
    "collapsed": false,
    "pycharm": {
     "name": "#%%\n"
    }
   }
  },
  {
   "cell_type": "code",
   "execution_count": null,
   "outputs": [],
   "source": [
    "model = build_model(attr_count, normalizer)\n",
    "evaluate_model(model, samples, qualities, epochs=1000)"
   ],
   "metadata": {
    "collapsed": false,
    "pycharm": {
     "name": "#%%\n"
    }
   }
  },
  {
   "cell_type": "markdown",
   "source": [
    "Tagad kļūda raustas. Samazināšu learning rate x2. un Palielināšu epohu skaitu x2."
   ],
   "metadata": {
    "collapsed": false
   }
  },
  {
   "cell_type": "code",
   "execution_count": null,
   "outputs": [],
   "source": [
    "def build_model(input_count: int, normalizer):\n",
    "    init = tf.keras.initializers.TruncatedNormal(stddev=0.01, seed=42)\n",
    "    model = tf.keras.models.Sequential([\n",
    "        normalizer,\n",
    "        tf.keras.layers.Dense(32, kernel_initializer=init, activation='relu', input_shape=(input_count,)),\n",
    "        tf.keras.layers.Dense(16, activation='relu'),\n",
    "        tf.keras.layers.Dense(8, activation='relu'),\n",
    "        tf.keras.layers.Dense(1)\n",
    "    ])\n",
    "\n",
    "    adam = tf.keras.optimizers.Adam(learning_rate=0.00025)\n",
    "\n",
    "    model.compile(loss='mse', optimizer=adam, metrics=['mse'])\n",
    "\n",
    "    return model"
   ],
   "metadata": {
    "collapsed": false,
    "pycharm": {
     "name": "#%%\n"
    }
   }
  },
  {
   "cell_type": "code",
   "execution_count": null,
   "outputs": [],
   "source": [
    "model = build_model(attr_count, normalizer)\n",
    "evaluate_model(model, samples, qualities, epochs=2000)"
   ],
   "metadata": {
    "collapsed": false,
    "pycharm": {
     "name": "#%%\n"
    }
   }
  },
  {
   "cell_type": "markdown",
   "source": [
    "Izmēģināšu mean absolute erorr loss-funkciju."
   ],
   "metadata": {
    "collapsed": false
   }
  },
  {
   "cell_type": "code",
   "execution_count": null,
   "outputs": [],
   "source": [
    "def build_model(input_count: int, output_count: int):\n",
    "    init = tf.keras.initializers.TruncatedNormal(stddev=0.01, seed=42)\n",
    "    model = tf.keras.models.Sequential()\n",
    "    model.add(tf.keras.layers.Dense(64, kernel_initializer=init, activation='relu', input_shape=(input_count,)))\n",
    "    model.add(tf.keras.layers.Dense(32, activation='relu'))\n",
    "    model.add(tf.keras.layers.Dense(16, activation='relu'))\n",
    "    model.add(tf.keras.layers.Dense(1))\n",
    "\n",
    "    adam = tf.keras.optimizers.Adam(learning_rate=0.0025)\n",
    "\n",
    "    model.compile(loss='mae', optimizer=adam, metrics=['mse'])\n",
    "\n",
    "    return model"
   ],
   "metadata": {
    "collapsed": false,
    "pycharm": {
     "name": "#%%\n"
    }
   }
  },
  {
   "cell_type": "code",
   "execution_count": null,
   "outputs": [],
   "source": [
    "model = build_model(attr_count, 1)\n",
    "evaluate_model(model, samples, qualities, epochs=2000)"
   ],
   "metadata": {
    "collapsed": false,
    "pycharm": {
     "name": "#%%\n"
    }
   }
  },
  {
   "cell_type": "markdown",
   "source": [
    "Palika sliktāk. Pamēģināšu Nadam optimizācijas algoritmu."
   ],
   "metadata": {
    "collapsed": false
   }
  },
  {
   "cell_type": "code",
   "execution_count": null,
   "outputs": [],
   "source": [
    "def build_model(input_count: int, output_count: int):\n",
    "    init = tf.keras.initializers.TruncatedNormal(stddev=0.01, seed=42)\n",
    "    model = tf.keras.models.Sequential()\n",
    "    model.add(tf.keras.layers.Dense(64, kernel_initializer=init, activation='relu', input_shape=(input_count,)))\n",
    "    model.add(tf.keras.layers.Dense(32, activation='relu'))\n",
    "    model.add(tf.keras.layers.Dense(16, activation='relu'))\n",
    "    model.add(tf.keras.layers.Dense(1))\n",
    "\n",
    "    adam = tf.keras.optimizers.Nadam(learning_rate=0.0025)\n",
    "\n",
    "    model.compile(loss='mse', optimizer=adam, metrics=['mse'])\n",
    "\n",
    "    return model"
   ],
   "metadata": {
    "collapsed": false,
    "pycharm": {
     "name": "#%%\n"
    }
   }
  },
  {
   "cell_type": "code",
   "execution_count": null,
   "outputs": [],
   "source": [
    "model = build_model(attr_count, 1)\n",
    "evaluate_model(model, samples, qualities, epochs=2000)"
   ],
   "metadata": {
    "collapsed": false,
    "pycharm": {
     "name": "#%%\n"
    }
   }
  },
  {
   "cell_type": "markdown",
   "source": [
    "Nu ļoti slikts rezultāts :/"
   ],
   "metadata": {
    "collapsed": false,
    "pycharm": {
     "name": "#%% md\n"
    }
   }
  },
  {
   "cell_type": "markdown",
   "source": [
    "Pamēģināšu palielināt slāņu, neironu un epohu skaitu."
   ],
   "metadata": {
    "collapsed": false
   }
  },
  {
   "cell_type": "code",
   "execution_count": null,
   "outputs": [],
   "source": [
    "def build_model(input_count: int, output_count: int):\n",
    "    init = tf.keras.initializers.TruncatedNormal(stddev=0.01, seed=42)\n",
    "    model = tf.keras.models.Sequential()\n",
    "    model.add(tf.keras.layers.Dense(64, kernel_initializer=init, activation='relu', input_shape=(input_count,)))\n",
    "    model.add(tf.keras.layers.Dense(32, activation='relu'))\n",
    "    model.add(tf.keras.layers.Dense(16, activation='relu'))\n",
    "    model.add(tf.keras.layers.Dense(8, activation='relu'))\n",
    "    model.add(tf.keras.layers.Dense(4, activation='relu'))\n",
    "    model.add(tf.keras.layers.Dense(1))\n",
    "\n",
    "    adam = tf.keras.optimizers.Adam(learning_rate=0.001)\n",
    "\n",
    "    model.compile(loss='mse', optimizer=adam, metrics=['mse'])\n",
    "\n",
    "    return model"
   ],
   "metadata": {
    "collapsed": false,
    "pycharm": {
     "name": "#%%\n"
    }
   }
  },
  {
   "cell_type": "code",
   "execution_count": null,
   "outputs": [],
   "source": [
    "model = build_model(attr_count, 1)\n",
    "evaluate_model(model, samples, qualities, epochs=10000)"
   ],
   "metadata": {
    "collapsed": false,
    "pycharm": {
     "name": "#%%\n"
    }
   }
  },
  {
   "cell_type": "markdown",
   "source": [
    "Varbūt aktivācijas funkcija ir pie vainas (neticu, bet jāparbauda). Pamainīšu uz sigmoid."
   ],
   "metadata": {
    "collapsed": false
   }
  },
  {
   "cell_type": "code",
   "execution_count": null,
   "outputs": [],
   "source": [
    "def build_model(input_count: int, output_count: int):\n",
    "    init = tf.keras.initializers.TruncatedNormal(stddev=0.01, seed=42)\n",
    "    model = tf.keras.models.Sequential()\n",
    "    model.add(tf.keras.layers.Dense(64, kernel_initializer=init, activation='sigmoid', input_shape=(input_count,)))\n",
    "    model.add(tf.keras.layers.Dense(32, activation='sigmoid'))\n",
    "    model.add(tf.keras.layers.Dense(16, activation='sigmoid'))\n",
    "    model.add(tf.keras.layers.Dense(8, activation='sigmoid'))\n",
    "    model.add(tf.keras.layers.Dense(4, activation='sigmoid'))\n",
    "    model.add(tf.keras.layers.Dense(1))\n",
    "\n",
    "    adam = tf.keras.optimizers.Adam(learning_rate=0.001)\n",
    "\n",
    "    model.compile(loss='mse', optimizer=adam, metrics=['mse'])\n",
    "\n",
    "    return model"
   ],
   "metadata": {
    "collapsed": false,
    "pycharm": {
     "name": "#%%\n"
    }
   }
  },
  {
   "cell_type": "code",
   "execution_count": null,
   "outputs": [],
   "source": [
    "model = build_model(attr_count, 1)\n",
    "evaluate_model(model, samples, qualities, epochs=10000)"
   ],
   "metadata": {
    "collapsed": false,
    "pycharm": {
     "name": "#%%\n"
    }
   }
  },
  {
   "cell_type": "markdown",
   "source": [
    "Bet ja es pamainīšu pēdēja neirona aktivācijas funkciju uz relu? Jo pirms tam tam bija lineāra funkcija."
   ],
   "metadata": {
    "collapsed": false
   }
  },
  {
   "cell_type": "code",
   "execution_count": null,
   "outputs": [],
   "source": [
    "def build_model(input_count: int, output_count: int):\n",
    "    init = tf.keras.initializers.TruncatedNormal(stddev=0.01, seed=42)\n",
    "    model = tf.keras.models.Sequential()\n",
    "    model.add(tf.keras.layers.Dense(64, kernel_initializer=init, activation='relu', input_shape=(input_count,)))\n",
    "    model.add(tf.keras.layers.Dense(32, activation='relu'))\n",
    "    model.add(tf.keras.layers.Dense(16, activation='relu'))\n",
    "    model.add(tf.keras.layers.Dense(8, activation='relu'))\n",
    "    model.add(tf.keras.layers.Dense(4, activation='relu'))\n",
    "    model.add(tf.keras.layers.Dense(1, activation='relu'))\n",
    "\n",
    "    adam = tf.keras.optimizers.Adam(learning_rate=0.001)\n",
    "\n",
    "    model.compile(loss='mse', optimizer=adam, metrics=['mse'])\n",
    "\n",
    "    return model"
   ],
   "metadata": {
    "collapsed": false,
    "pycharm": {
     "name": "#%%\n"
    }
   }
  },
  {
   "cell_type": "code",
   "execution_count": null,
   "outputs": [],
   "source": [
    "model = build_model(attr_count, 1)\n",
    "evaluate_model(model, samples, qualities, epochs=10000)"
   ],
   "metadata": {
    "collapsed": false,
    "pycharm": {
     "name": "#%%\n"
    }
   }
  }
 ],
 "metadata": {
  "kernelspec": {
   "display_name": "Python 3 (ipykernel)",
   "language": "python",
   "name": "python3"
  },
  "language_info": {
   "codemirror_mode": {
    "name": "ipython",
    "version": 3
   },
   "file_extension": ".py",
   "mimetype": "text/x-python",
   "name": "python",
   "nbconvert_exporter": "python",
   "pygments_lexer": "ipython3",
   "version": "3.9.9"
  }
 },
 "nbformat": 4,
 "nbformat_minor": 5
}