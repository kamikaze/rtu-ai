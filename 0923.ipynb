{
 "cells": [
  {
   "cell_type": "code",
   "execution_count": 7,
   "id": "d5ba914f-4269-45b4-b560-1ae38a1c7c55",
   "metadata": {},
   "outputs": [],
   "source": [
    "Z = tuple(round(i/10, 3) for i in range(-100, 101))"
   ]
  },
  {
   "cell_type": "code",
   "execution_count": 8,
   "id": "02453fee-c1f0-4fe8-8aaf-1fe6c78bb0b0",
   "metadata": {},
   "outputs": [
    {
     "name": "stdout",
     "output_type": "stream",
     "text": [
      "(-10.0, -9.9, -9.8, -9.7, -9.6, -9.5, -9.4, -9.3, -9.2, -9.1, -9.0, -8.9, -8.8, -8.7, -8.6, -8.5, -8.4, -8.3, -8.2, -8.1, -8.0, -7.9, -7.8, -7.7, -7.6, -7.5, -7.4, -7.3, -7.2, -7.1, -7.0, -6.9, -6.8, -6.7, -6.6, -6.5, -6.4, -6.3, -6.2, -6.1, -6.0, -5.9, -5.8, -5.7, -5.6, -5.5, -5.4, -5.3, -5.2, -5.1, -5.0, -4.9, -4.8, -4.7, -4.6, -4.5, -4.4, -4.3, -4.2, -4.1, -4.0, -3.9, -3.8, -3.7, -3.6, -3.5, -3.4, -3.3, -3.2, -3.1, -3.0, -2.9, -2.8, -2.7, -2.6, -2.5, -2.4, -2.3, -2.2, -2.1, -2.0, -1.9, -1.8, -1.7, -1.6, -1.5, -1.4, -1.3, -1.2, -1.1, -1.0, -0.9, -0.8, -0.7, -0.6, -0.5, -0.4, -0.3, -0.2, -0.1, 0.0, 0.1, 0.2, 0.3, 0.4, 0.5, 0.6, 0.7, 0.8, 0.9, 1.0, 1.1, 1.2, 1.3, 1.4, 1.5, 1.6, 1.7, 1.8, 1.9, 2.0, 2.1, 2.2, 2.3, 2.4, 2.5, 2.6, 2.7, 2.8, 2.9, 3.0, 3.1, 3.2, 3.3, 3.4, 3.5, 3.6, 3.7, 3.8, 3.9, 4.0, 4.1, 4.2, 4.3, 4.4, 4.5, 4.6, 4.7, 4.8, 4.9, 5.0, 5.1, 5.2, 5.3, 5.4, 5.5, 5.6, 5.7, 5.8, 5.9, 6.0, 6.1, 6.2, 6.3, 6.4, 6.5, 6.6, 6.7, 6.8, 6.9, 7.0, 7.1, 7.2, 7.3, 7.4, 7.5, 7.6, 7.7, 7.8, 7.9, 8.0, 8.1, 8.2, 8.3, 8.4, 8.5, 8.6, 8.7, 8.8, 8.9, 9.0, 9.1, 9.2, 9.3, 9.4, 9.5, 9.6, 9.7, 9.8, 9.9, 10.0)\n"
     ]
    }
   ],
   "source": [
    "print(Z)"
   ]
  },
  {
   "cell_type": "code",
   "execution_count": 9,
   "id": "bef86561-0a47-458c-ae3e-7d2ac5f7e126",
   "metadata": {},
   "outputs": [],
   "source": [
    "from math import exp\n",
    "\n",
    "\n",
    "def a_step(val):\n",
    "    return int(val>0)"
   ]
  },
  {
   "cell_type": "code",
   "execution_count": 10,
   "id": "d1363677-ac99-4124-805b-23fbf44251a8",
   "metadata": {},
   "outputs": [],
   "source": [
    "def a_lin(val):\n",
    "    if val <= 0:\n",
    "        return 0\n",
    "    elif val > 5:\n",
    "        return 1\n",
    "    \n",
    "    return val/5"
   ]
  },
  {
   "cell_type": "code",
   "execution_count": 11,
   "id": "b8df7209-c3ed-4006-a4f8-750d05a452f2",
   "metadata": {},
   "outputs": [],
   "source": [
    "def a_sigmoid(val):\n",
    "    return 1.0 / (1.0+exp(-val))"
   ]
  },
  {
   "cell_type": "code",
   "execution_count": 12,
   "id": "e443626c-f233-40e1-85e7-4eed09918c69",
   "metadata": {},
   "outputs": [],
   "source": [
    "def a_tanh(val):\n",
    "    return (exp(val)-exp(-val)) / (exp(val)+exp(-val))"
   ]
  },
  {
   "cell_type": "code",
   "execution_count": 13,
   "id": "247eabd0-f0a5-48b3-a5f6-9e1fef8a0716",
   "metadata": {},
   "outputs": [],
   "source": [
    "Y_step = tuple(map(a_step, Z))\n",
    "Y_lin = tuple(map(a_lin, Z))\n",
    "Y_sig = tuple(map(a_sigmoid, Z))\n",
    "Y_tanh = tuple(map(a_tanh, Z))\n"
   ]
  },
  {
   "cell_type": "code",
   "execution_count": 14,
   "id": "1e975158-6054-4162-8a69-21010c8d1c7a",
   "metadata": {},
   "outputs": [
    {
     "name": "stdout",
     "output_type": "stream",
     "text": [
      "(0, 0, 0, 0, 0, 0, 0, 0, 0, 0, 0, 0, 0, 0, 0, 0, 0, 0, 0, 0, 0, 0, 0, 0, 0, 0, 0, 0, 0, 0, 0, 0, 0, 0, 0, 0, 0, 0, 0, 0, 0, 0, 0, 0, 0, 0, 0, 0, 0, 0, 0, 0, 0, 0, 0, 0, 0, 0, 0, 0, 0, 0, 0, 0, 0, 0, 0, 0, 0, 0, 0, 0, 0, 0, 0, 0, 0, 0, 0, 0, 0, 0, 0, 0, 0, 0, 0, 0, 0, 0, 0, 0, 0, 0, 0, 0, 0, 0, 0, 0, 0, 0.02, 0.04, 0.06, 0.08, 0.1, 0.12, 0.13999999999999999, 0.16, 0.18, 0.2, 0.22000000000000003, 0.24, 0.26, 0.27999999999999997, 0.3, 0.32, 0.33999999999999997, 0.36, 0.38, 0.4, 0.42000000000000004, 0.44000000000000006, 0.45999999999999996, 0.48, 0.5, 0.52, 0.54, 0.5599999999999999, 0.58, 0.6, 0.62, 0.64, 0.6599999999999999, 0.6799999999999999, 0.7, 0.72, 0.74, 0.76, 0.78, 0.8, 0.82, 0.8400000000000001, 0.86, 0.8800000000000001, 0.9, 0.9199999999999999, 0.9400000000000001, 0.96, 0.9800000000000001, 1.0, 1, 1, 1, 1, 1, 1, 1, 1, 1, 1, 1, 1, 1, 1, 1, 1, 1, 1, 1, 1, 1, 1, 1, 1, 1, 1, 1, 1, 1, 1, 1, 1, 1, 1, 1, 1, 1, 1, 1, 1, 1, 1, 1, 1, 1, 1, 1, 1, 1, 1)\n"
     ]
    }
   ],
   "source": [
    "print(Y_lin)"
   ]
  },
  {
   "cell_type": "code",
   "execution_count": 15,
   "id": "0e20570b-06e1-42ba-b9a9-3c612ead4495",
   "metadata": {},
   "outputs": [],
   "source": [
    "from matplotlib import pyplot as plt"
   ]
  },
  {
   "cell_type": "code",
   "execution_count": 16,
   "id": "c11b2f00-09a7-4db5-a5f3-8ad3bbbdd768",
   "metadata": {},
   "outputs": [
    {
     "data": {
      "text/plain": [
       "<Figure size 1600x1200 with 0 Axes>"
      ]
     },
     "execution_count": 16,
     "metadata": {},
     "output_type": "execute_result"
    },
    {
     "data": {
      "text/plain": [
       "<Figure size 1600x1200 with 0 Axes>"
      ]
     },
     "metadata": {},
     "output_type": "display_data"
    }
   ],
   "source": [
    "plt.figure(figsize=(20, 15), dpi=80)"
   ]
  },
  {
   "cell_type": "code",
   "execution_count": 18,
   "id": "549d64d7-57a1-4ae6-af9e-ce53fc949b54",
   "metadata": {},
   "outputs": [
    {
     "data": {
      "image/png": "[encoded data removed]",
      "text/plain": [
       "<Figure size 432x288 with 1 Axes>"
      ]
     },
     "metadata": {
      "needs_background": "light"
     },
     "output_type": "display_data"
    }
   ],
   "source": [
    "plt.plot(Z, Y_step)\n",
    "plt.plot(Z, Y_lin)\n",
    "plt.plot(Z, Y_sig)\n",
    "plt.plot(Z, Y_tanh)\n",
    "plt.grid(True)\n",
    "plt.show()"
   ]
  },
  {
   "cell_type": "code",
   "execution_count": 28,
   "id": "e3b60460-aaf5-4a15-a25d-0bab60ba1035",
   "metadata": {},
   "outputs": [],
   "source": [
    "import numpy as np\n",
    "\n",
    "\n",
    "def perceptron(x, w):\n",
    "    x = np.append(x, 1)\n",
    "    net = np.dot(x, w)\n",
    "    \n",
    "    return a_sigmoid(net)"
   ]
  },
  {
   "cell_type": "code",
   "execution_count": 29,
   "id": "0c23715a-82b5-49f2-b257-6990d61382c3",
   "metadata": {},
   "outputs": [],
   "source": [
    "import pandas as pd\n",
    "\n",
    "\n",
    "csvdata = pd.read_csv('dati.csv')\n",
    "data = csvdata.to_numpy()"
   ]
  },
  {
   "cell_type": "code",
   "execution_count": 54,
   "id": "a27509d1-c9d8-4471-ac98-bf4ad4189a8c",
   "metadata": {},
   "outputs": [],
   "source": [
    "w = (1, 1, -7.5)\n",
    "pc = tuple(perceptron(item[:2], w) for item in data)\n",
    "img = tuple(tuple(perceptron([xi/10, yi/10], w) for xi in range(81)) for yi in range(71))"
   ]
  },
  {
   "cell_type": "code",
   "execution_count": 55,
   "id": "cf30a7e8-550f-470e-b29f-c11360f25378",
   "metadata": {},
   "outputs": [
    {
     "data": {
      "image/png": "[encoded data removed]",
      "text/plain": [
       "<Figure size 432x288 with 1 Axes>"
      ]
     },
     "metadata": {
      "needs_background": "light"
     },
     "output_type": "display_data"
    }
   ],
   "source": [
    "plt.imshow(img, extent=[0, 8, 0, 7], origin='lower')\n",
    "plt.scatter(data[:, 0], data[:, 1], c=data[:, 2], linewidths=1, edgecolors='black')\n",
    "plt.show()"
   ]
  },
  {
   "cell_type": "code",
   "execution_count": null,
   "id": "0581af11-ce12-4237-92b2-3cf8a1fdd907",
   "metadata": {},
   "outputs": [],
   "source": []
  }
 ],
 "metadata": {
  "kernelspec": {
   "display_name": "Python 3 (ipykernel)",
   "language": "python",
   "name": "python3"
  },
  "language_info": {
   "codemirror_mode": {
    "name": "ipython",
    "version": 3
   },
   "file_extension": ".py",
   "mimetype": "text/x-python",
   "name": "python",
   "nbconvert_exporter": "python",
   "pygments_lexer": "ipython3",
   "version": "3.8.12"
  }
 },
 "nbformat": 4,
 "nbformat_minor": 5
}
